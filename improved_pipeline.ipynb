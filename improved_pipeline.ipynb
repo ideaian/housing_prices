{
 "cells": [
  {
   "cell_type": "code",
   "execution_count": 58,
   "metadata": {
    "collapsed": false,
    "deletable": true,
    "editable": true
   },
   "outputs": [
    {
     "name": "stderr",
     "output_type": "stream",
     "text": [
      "/Users/derringi/.edm/envs/may2018/lib/python2.7/site-packages/ipykernel_launcher.py:2: ImportWarning: Not importing directory '/Users/derringi/git/ac-modeling/utils': missing __init__.py\n",
      "  \n"
     ]
    },
    {
     "ename": "ImportError",
     "evalue": "No module named utils.general_utils",
     "output_type": "error",
     "traceback": [
      "\u001b[1;31m---------------------------------------------------------------------------\u001b[0m",
      "\u001b[1;31mImportError\u001b[0m                               Traceback (most recent call last)",
      "\u001b[1;32m<ipython-input-58-9ca04d3a1351>\u001b[0m in \u001b[0;36m<module>\u001b[1;34m()\u001b[0m\n\u001b[0;32m      1\u001b[0m \u001b[1;32mfrom\u001b[0m \u001b[0mfind_prices_nonoverlap\u001b[0m \u001b[1;32mimport\u001b[0m \u001b[1;33m*\u001b[0m\u001b[1;33m\u001b[0m\u001b[0m\n\u001b[1;32m----> 2\u001b[1;33m \u001b[1;32mfrom\u001b[0m \u001b[0mutils\u001b[0m\u001b[1;33m.\u001b[0m\u001b[0mgeneral_utils\u001b[0m \u001b[1;32mimport\u001b[0m \u001b[1;33m(\u001b[0m\u001b[0mprint_metrics\u001b[0m\u001b[1;33m)\u001b[0m\u001b[1;33m\u001b[0m\u001b[0m\n\u001b[0m\u001b[0;32m      3\u001b[0m \u001b[1;31m# from util.custom_dataframe_sklearn_mixins import *\u001b[0m\u001b[1;33m\u001b[0m\u001b[1;33m\u001b[0m\u001b[0m\n\u001b[0;32m      4\u001b[0m \u001b[1;32mfrom\u001b[0m \u001b[0msklearn\u001b[0m \u001b[1;32mimport\u001b[0m \u001b[0mmetrics\u001b[0m\u001b[1;33m\u001b[0m\u001b[0m\n\u001b[0;32m      5\u001b[0m \u001b[1;32mfrom\u001b[0m \u001b[0msklearn\u001b[0m\u001b[1;33m.\u001b[0m\u001b[0mmodel_selection\u001b[0m \u001b[1;32mimport\u001b[0m \u001b[1;33m(\u001b[0m\u001b[0mGridSearchCV\u001b[0m\u001b[1;33m,\u001b[0m \u001b[0mStratifiedKFold\u001b[0m\u001b[1;33m,\u001b[0m \u001b[0mcross_val_score\u001b[0m\u001b[1;33m)\u001b[0m\u001b[1;33m\u001b[0m\u001b[0m\n",
      "\u001b[1;31mImportError\u001b[0m: No module named utils.general_utils"
     ]
    }
   ],
   "source": [
    "from utils.general_utils import (print_metrics)\n",
    "from core.find_prices_nonoverlap import *\n",
    "from sklearn import metrics\n",
    "from sklearn.model_selection import (GridSearchCV, StratifiedKFold, cross_val_score)\n",
    "import warnings\n",
    "warnings.filterwarnings(action='once')"
   ]
  },
  {
   "cell_type": "code",
   "execution_count": 56,
   "metadata": {
    "collapsed": false,
    "deletable": true,
    "editable": true
   },
   "outputs": [
    {
     "name": "stdout",
     "output_type": "stream",
     "text": [
      "Preparing Data: cleaning data\n",
      "Preparing Data: splitting test/train/validation\n"
     ]
    }
   ],
   "source": [
    "df = pd.read_csv('single_family_home_values.csv')\n",
    "\n",
    "print('Preparing Data: cleaning data')\n",
    "not_useful_fields = ['id','city','state']#, 'address']\n",
    "date_fields = ['lastSaleDate', 'priorSaleDate']\n",
    "required_fields = ['address','latitude','longitude','zipcode','bedrooms',\n",
    "                   'bathrooms','rooms','squareFootage',\n",
    "                   'lotSize','yearBuilt', 'lastSaleAmount',\n",
    "                   'lastSaleDate','estimated_value', 'priorSaleDate','priorSaleAmount', \n",
    "                   'squareFootageOverLotSize','bathroomsPerRooms','hasPriorSale','bathroomsPerRooms']\n",
    "zero_to_nan_fields = None\n",
    "nan_to_zero_fields = ['latitude','longitude','priorSaleDate','priorSaleAmount']\n",
    "\n",
    "df['squareFootageOverLotSize'] = df['squareFootage']/df['lotSize']\n",
    "df['bathroomsPerRooms'] = df['bathrooms']/(df['rooms']+.01)\n",
    "df['bathroomsPerRooms'] = df['rooms']/(df['squareFootage'])\n",
    "df['hasPriorSale'] = ~pd.isnull(df['priorSaleDate'])\n",
    "bad_idx = pd.isnull(df['yearBuilt'])\n",
    "df.loc[bad_idx, 'yearBuilt'] = 0\n",
    "print('Preparing Data: splitting test/train/validation')\n",
    "df_train, df_test, df_validation = train_validate_test_split(df)\n",
    "\n",
    "X_test = df_test[df_test.columns.drop('estimated_value')]\n",
    "y_test = df_test['estimated_value']\n",
    "\n",
    "X_train = df_train[df_train.columns.drop('estimated_value')]\n",
    "y_train = df_train['estimated_value'] "
   ]
  },
  {
   "cell_type": "code",
   "execution_count": null,
   "metadata": {
    "collapsed": false,
    "deletable": true,
    "editable": true
   },
   "outputs": [],
   "source": []
  },
  {
   "cell_type": "code",
   "execution_count": 44,
   "metadata": {
    "collapsed": false,
    "deletable": true,
    "editable": true
   },
   "outputs": [
    {
     "name": "stdout",
     "output_type": "stream",
     "text": [
      "Setting up pipeline\n",
      "Featurize\n"
     ]
    }
   ],
   "source": [
    "from sklearn.ensemble import (\n",
    "    ExtraTreesRegressor, GradientBoostingRegressor, AdaBoostRegressor \n",
    ")\n",
    "from sklearn.pipeline import FeatureUnion\n",
    "from sklearn.linear_model import LinearRegression\n",
    "print(\"Setting up pipeline\")\n",
    "features = ('latitude', 'longitude', 'zipcode',\n",
    "            'bedrooms', 'bathrooms','rooms', \n",
    "            'squareFootage', 'lotSize', \n",
    "            'yearBuilt',\n",
    "            'lastSaleAmount','lastSaleDateYear','lastSaleDateMonth','lastSaleDateDayOfWeek',\n",
    "           'priorSaleAmount','priorSaleDateYear','priorSaleDateMonth','priorSaleDateDayOfWeek', \n",
    "            'squareFootageOverLotSize','bathroomsPerRooms','hasPriorSale','bathroomsPerRooms')\n",
    "\n",
    "\n",
    "#: Note imputer will strip away column heads, it has to be after featurize\n",
    "#reg_function = LGBMRegressor()\n",
    "#reg_function = XGBRegressor()\n",
    "# reg_function = RandomForestRegressor(n_jobs=3, criterion='mae') # about the same, slower by orders of magnitude\n",
    "reg_function = RandomForestRegressor(n_jobs=3, criterion='mse')\n",
    "# reg_function = LinearRegression() # Really Really bad\n",
    "#reg_function = GradientBoostingRegressor()\n",
    "#reg_function = ExtraTreesRegressor(n_estimators=2)\n",
    "#reg_function = AdaBoostRegressor(); #Really bad\n",
    "\n",
    "\n",
    "# prepare_data_pipeline = Pipeline([\n",
    "#             ('prepare_data', PrepareData(required_fields=required_fields,\n",
    "#                                          date_fields=date_fields,\n",
    "#                                         zero_to_nan_fields=zero_to_nan_fields,\n",
    "#                                         nan_to_zero_fields=nan_to_zero_fields)), \n",
    "#           ('featurize', featurize(features)),\n",
    "#           ('imputer', Imputer(missing_values=np.nan, strategy=\"mean\", axis=0)),\n",
    "#             ])\n",
    "prepare_data_pipeline = Pipeline([\n",
    "\n",
    "        ('prepare_data', PrepareData(required_fields=required_fields,\n",
    "                                         date_fields=date_fields,\n",
    "                                        zero_to_nan_fields=zero_to_nan_fields,\n",
    "                                        nan_to_zero_fields=nan_to_zero_fields)), \n",
    "            ('union', FeatureUnion(\n",
    "                transformer_list=[\n",
    "                    # Extracting street vector\n",
    "                    ('subject',  StreetVectorizer()),\n",
    "#                     ('imputerize_df', imputerize_df(features, df_out=True)),\n",
    "                    # Featurizing all other values\n",
    "                    ('featurize_df', featurize_df(features, df_out=False)),\n",
    "                ]\n",
    "             )),\n",
    "                      ('imputer', Imputer(missing_values=np.nan, strategy=\"mean\", axis=0)),\n",
    "            ])\n",
    "\n",
    "fit_data_pipeline = Pipeline([\n",
    "#      ('dropout', Dropout(dropout_rate=0.99)),\n",
    "          ('forest', reg_function),\n",
    "            \n",
    "            ])"
   ]
  },
  {
   "cell_type": "code",
   "execution_count": 45,
   "metadata": {
    "collapsed": false,
    "deletable": true,
    "editable": true
   },
   "outputs": [],
   "source": [
    "# # from keras.layers import Dense, Dropout\n",
    "# from keras.models import Model, Sequential\n",
    "# from keras.wrappers.scikit_learn import KerasRegressor\n",
    "# def create_model(optimizer='adagrad',\n",
    "#                  kernel_initializer='glorot_uniform', \n",
    "#                  dropout=0.2):\n",
    "#     model = Sequential()\n",
    "#     model.add(Dense(64,activation='relu',kernel_initializer=kernel_initializer))\n",
    "#     model.add(Dropout(dropout))\n",
    "#     model.add(Dense(1,activation='sigmoid',kernel_initializer=kernel_initializer))\n",
    "\n",
    "#     model.compile(loss='mean_squared_error',optimizer=optimizer, metrics=['accuracy'])\n",
    "\n",
    "#     return model\n",
    "\n",
    "# # wrap the model using the function you created\n",
    "# clf = KerasRegressor(build_fn=create_model,verbose=0)\n",
    "# scaler = StandardScaler()\n",
    "\n",
    "# fit_data_pipeline = Pipeline([\n",
    "# #     ('preprocess',scaler),\n",
    "#           ('keras', clf)\n",
    "#             ])"
   ]
  },
  {
   "cell_type": "code",
   "execution_count": 46,
   "metadata": {
    "collapsed": false,
    "deletable": true,
    "editable": true,
    "scrolled": false
   },
   "outputs": [
    {
     "name": "stdout",
     "output_type": "stream",
     "text": [
      "Fitting model on training data\n"
     ]
    }
   ],
   "source": [
    "# y_train_sc = np.log(y_train+1)\n",
    "# y_train_mu = np.mean(y_train_sc)\n",
    "# y_train_std = np.std(y_train_sc)\n",
    "# Y_train_sc = (y_train_sc-y_train_mu)/y_train_std\n",
    "\n",
    "# y_test_sc = np.log(y_test+1)\n",
    "# y_test_mu = np.mean(y_test_sc)\n",
    "# y_test_std = np.std(y_test_sc)\n",
    "# y_test_sc = (y_test_sc-y_train_mu)/y_test_std\n",
    "\n",
    "y_train_sc = y_train\n",
    "y_test_sc = y_test\n",
    "\n",
    "x_train = prepare_data_pipeline.fit_transform(X = df_train, y = y_train_sc.values.reshape((-1,1)))\n",
    "\n",
    "print(\"Fitting model on training data\")\n",
    "model = fit_data_pipeline.fit(X = x_train, y = y_train_sc.values.reshape((-1,1)))\n"
   ]
  },
  {
   "cell_type": "code",
   "execution_count": 53,
   "metadata": {
    "collapsed": false,
    "deletable": true,
    "editable": true,
    "scrolled": false
   },
   "outputs": [
    {
     "name": "stdout",
     "output_type": "stream",
     "text": [
      "Evaluating model on training data\n",
      "Sqrt mse: 63669.5172386\n",
      "Mean absolute error: 23976.5710917\n",
      "R2 score: 0.984372949036\n",
      "Absolute mean relative error: 0.0318919523215\n"
     ]
    },
    {
     "data": {
      "image/png": "[encoded data removed]",
      "text/plain": [
       "<matplotlib.figure.Figure at 0x124f60350>"
      ]
     },
     "metadata": {},
     "output_type": "display_data"
    },
    {
     "name": "stdout",
     "output_type": "stream",
     "text": [
      "Evaluating model on testing data\n",
      "Sqrt mse: 134429.088183\n",
      "Mean absolute error: 57761.3378667\n",
      "R2 score: 0.916779727005\n",
      "Absolute mean relative error: 0.0775812972488\n"
     ]
    },
    {
     "data": {
      "image/png": "[encoded data removed]",
      "text/plain": [
       "<matplotlib.figure.Figure at 0x127902910>"
      ]
     },
     "metadata": {},
     "output_type": "display_data"
    },
    {
     "name": "stdout",
     "output_type": "stream",
     "text": [
      "Successfully fit\n"
     ]
    }
   ],
   "source": [
    "\n",
    "print(\"Evaluating model on training data\")\n",
    "y_pred = model.predict(x_train)\n",
    "# y_pred = model.named_steps['forest'].predict(x_train)\n",
    "print_metrics(y_train_sc.values, y_pred)\n",
    "plt.plot(y_train_sc.values, y_pred,'.')\n",
    "y_max = (np.max((y_train_sc.values, y_pred.flatten())))\n",
    "# plt.plot((0,y_max), (0,y_max),color='black')\n",
    "plt.show()\n",
    "\n",
    "print(\"Evaluating model on testing data\")\n",
    "X_test = prepare_data_pipeline.transform(df_test)\n",
    "y_test_pred = model.predict(X_test)\n",
    "# y_test_pred = model.named_steps['forest'].predict(X_test)\n",
    "print_metrics(y_test_sc.values, y_test_pred)\n",
    "plt.plot(y_test_sc.values, y_test_pred.flatten(),'.', alpha=0.2)\n",
    "y_max = np.max((y_test_sc, y_test_pred.flatten()))\n",
    "# plt.plot((0,y_max), (0,y_max),color='black')\n",
    "\n",
    "plt.show()\n",
    "print(\"Successfully fit\")"
   ]
  },
  {
   "cell_type": "code",
   "execution_count": 51,
   "metadata": {
    "collapsed": false,
    "deletable": true,
    "editable": true
   },
   "outputs": [
    {
     "data": {
      "text/plain": [
       "RandomForestRegressor(bootstrap=True, criterion='mse', max_depth=None,\n",
       "           max_features='auto', max_leaf_nodes=None,\n",
       "           min_impurity_split=1e-07, min_samples_leaf=1,\n",
       "           min_samples_split=2, min_weight_fraction_leaf=0.0,\n",
       "           n_estimators=10, n_jobs=3, oob_score=False, random_state=None,\n",
       "           verbose=0, warm_start=False)"
      ]
     },
     "execution_count": 51,
     "metadata": {},
     "output_type": "execute_result"
    }
   ],
   "source": [
    "model.named_steps['forest']"
   ]
  },
  {
   "cell_type": "code",
   "execution_count": null,
   "metadata": {
    "collapsed": true,
    "deletable": true,
    "editable": true
   },
   "outputs": [],
   "source": []
  },
  {
   "cell_type": "code",
   "execution_count": 8,
   "metadata": {
    "collapsed": false,
    "deletable": true,
    "editable": true
   },
   "outputs": [
    {
     "data": {
      "text/plain": [
       "(750,)"
      ]
     },
     "execution_count": 8,
     "metadata": {},
     "output_type": "execute_result"
    }
   ],
   "source": [
    "y_test_sc.values.shape\n",
    "y_test_pred.shape"
   ]
  },
  {
   "cell_type": "code",
   "execution_count": 9,
   "metadata": {
    "collapsed": false,
    "deletable": true,
    "editable": true,
    "scrolled": true
   },
   "outputs": [
    {
     "data": {
      "image/png": "[encoded data removed]",
      "text/plain": [
       "<matplotlib.figure.Figure at 0x115a4e7d0>"
      ]
     },
     "metadata": {},
     "output_type": "display_data"
    }
   ],
   "source": [
    "[c,b] = np.histogram(y_train_sc.values- y_pred.flatten(), bins = np.linspace(-1e6,1e6,100), normed=True)\n",
    "plt.plot(b[:-1],c,'k')\n",
    "[c,b] = np.histogram(y_test_sc.values- y_test_pred.flatten(), bins = np.linspace(-1e6,1e6,100), normed=True)\n",
    "plt.plot(b[:-1],c,'r')\n",
    "plt.show()"
   ]
  },
  {
   "cell_type": "code",
   "execution_count": 10,
   "metadata": {
    "collapsed": false,
    "deletable": true,
    "editable": true
   },
   "outputs": [
    {
     "data": {
      "text/plain": [
       "['finalized_fit_data_pipeline.sav']"
      ]
     },
     "execution_count": 10,
     "metadata": {},
     "output_type": "execute_result"
    }
   ],
   "source": [
    "from sklearn.externals import joblib\n",
    "filename = 'finalized_prepare_data_pipeline.sav'\n",
    "joblib.dump(prepare_data_pipeline, filename)\n",
    "filename = 'finalized_fit_data_pipeline.sav'\n",
    "joblib.dump(fit_data_pipeline, filename)\n",
    "  \n",
    "# some time later...\n",
    " \n",
    "# load the model from disk\n",
    "# loaded_model = joblib.load(filename)\n",
    "# result = loaded_model.score(X_test, Y_test)"
   ]
  },
  {
   "cell_type": "code",
   "execution_count": 11,
   "metadata": {
    "collapsed": false,
    "deletable": true,
    "editable": true
   },
   "outputs": [
    {
     "ename": "AttributeError",
     "evalue": "'Dropout' object has no attribute 'feature_importances_'",
     "output_type": "error",
     "traceback": [
      "\u001b[1;31m---------------------------------------------------------------------------\u001b[0m",
      "\u001b[1;31mAttributeError\u001b[0m                            Traceback (most recent call last)",
      "\u001b[1;32m<ipython-input-11-131eeefb23fe>\u001b[0m in \u001b[0;36m<module>\u001b[1;34m()\u001b[0m\n\u001b[1;32m----> 1\u001b[1;33m \u001b[0msns\u001b[0m\u001b[1;33m.\u001b[0m\u001b[0mbarplot\u001b[0m\u001b[1;33m(\u001b[0m\u001b[0mnp\u001b[0m\u001b[1;33m.\u001b[0m\u001b[0marange\u001b[0m\u001b[1;33m(\u001b[0m\u001b[0mlen\u001b[0m\u001b[1;33m(\u001b[0m\u001b[0mfit_data_pipeline\u001b[0m\u001b[1;33m.\u001b[0m\u001b[0msteps\u001b[0m\u001b[1;33m[\u001b[0m\u001b[1;36m0\u001b[0m\u001b[1;33m]\u001b[0m\u001b[1;33m[\u001b[0m\u001b[1;36m1\u001b[0m\u001b[1;33m]\u001b[0m\u001b[1;33m.\u001b[0m\u001b[0mfeature_importances_\u001b[0m\u001b[1;33m)\u001b[0m\u001b[1;33m)\u001b[0m\u001b[1;33m,\u001b[0m\u001b[0mfit_data_pipeline\u001b[0m\u001b[1;33m.\u001b[0m\u001b[0msteps\u001b[0m\u001b[1;33m[\u001b[0m\u001b[1;36m0\u001b[0m\u001b[1;33m]\u001b[0m\u001b[1;33m[\u001b[0m\u001b[1;36m1\u001b[0m\u001b[1;33m]\u001b[0m\u001b[1;33m.\u001b[0m\u001b[0mfeature_importances_\u001b[0m\u001b[1;33m)\u001b[0m\u001b[1;33m\u001b[0m\u001b[0m\n\u001b[0m\u001b[0;32m      2\u001b[0m \u001b[0mplt\u001b[0m\u001b[1;33m.\u001b[0m\u001b[0mshow\u001b[0m\u001b[1;33m(\u001b[0m\u001b[1;33m)\u001b[0m\u001b[1;33m\u001b[0m\u001b[0m\n",
      "\u001b[1;31mAttributeError\u001b[0m: 'Dropout' object has no attribute 'feature_importances_'"
     ]
    }
   ],
   "source": [
    "sns.barplot(np.arange(len(fit_data_pipeline.steps[0][1].feature_importances_)),fit_data_pipeline.steps[0][1].feature_importances_)\n",
    "plt.show()"
   ]
  },
  {
   "cell_type": "code",
   "execution_count": null,
   "metadata": {
    "collapsed": false,
    "deletable": true,
    "editable": true
   },
   "outputs": [],
   "source": [
    "len(features)"
   ]
  },
  {
   "cell_type": "code",
   "execution_count": null,
   "metadata": {
    "collapsed": true,
    "deletable": true,
    "editable": true
   },
   "outputs": [],
   "source": [
    "asdf"
   ]
  },
  {
   "cell_type": "code",
   "execution_count": null,
   "metadata": {
    "collapsed": false,
    "deletable": true,
    "editable": true
   },
   "outputs": [],
   "source": [
    "len(fit_data_pipeline.steps[0][1].feature_importances_)"
   ]
  },
  {
   "cell_type": "code",
   "execution_count": null,
   "metadata": {
    "collapsed": false,
    "deletable": true,
    "editable": true
   },
   "outputs": [],
   "source": [
    "#: Work on using grid-searches\n",
    "# params = {'forest__n_estimators':  (39,42)}\n",
    "params = {'forest__n_estimators':  np.arange(5,45,5)}\n",
    "# params = {'forest__n_estimators':  np.arange(35,45,5),\n",
    "#           'forest__max_features':  ['auto','sqrt']}\n",
    "\n",
    "from sklearn.preprocessing import FunctionTransformer\n",
    "# transformer = FunctionTransformer(np.log1p)\n",
    "# transformer.transform(y)\n",
    "grid = GridSearchCV(fit_data_pipeline, params)\n",
    "\n",
    "grid.fit(X = x_train, y = y_train)\n",
    "\n",
    "#: Definining a specified cross-validation technique\n",
    "cv= StratifiedKFold(n_splits=2)\n",
    "\n",
    "# Alternatively, can say can say cv=3 to say a 3-repeat cross-validator\n",
    "grid_search = GridSearchCV(fit_data_pipeline, params, cv=5)\n",
    "#gsearch = GridSearchCV(pipeline, params)\n",
    "grid_search.fit(X = x_train, y = y_train)\n",
    "best_pipeline = grid_search.best_estimator_\n",
    "best_pipeline.get_params()['forest']"
   ]
  },
  {
   "cell_type": "code",
   "execution_count": null,
   "metadata": {
    "collapsed": false,
    "deletable": true,
    "editable": true
   },
   "outputs": [],
   "source": [
    "print(grid_search.cv_results_['mean_train_score'])\n",
    "plt.plot(params['forest__n_estimators'], grid_search.cv_results_['mean_train_score'],'k')\n",
    "plt.plot(params['forest__n_estimators'], grid_search.cv_results_['mean_test_score'],'r')\n",
    "plt.show()"
   ]
  },
  {
   "cell_type": "code",
   "execution_count": null,
   "metadata": {
    "collapsed": false,
    "deletable": true,
    "editable": true
   },
   "outputs": [],
   "source": [
    "best_pipeline = grid_search.best_estimator_\n",
    "best_pipeline.get_params()['forest']"
   ]
  },
  {
   "cell_type": "code",
   "execution_count": null,
   "metadata": {
    "collapsed": false,
    "deletable": true,
    "editable": true
   },
   "outputs": [],
   "source": [
    "best_pipeline.feature_importances"
   ]
  },
  {
   "cell_type": "code",
   "execution_count": null,
   "metadata": {
    "collapsed": false,
    "deletable": true,
    "editable": true
   },
   "outputs": [],
   "source": [
    "X = X_test\n",
    "y = y_test\n",
    "y_pred = best_pipeline.predict(X)\n",
    "print_metrics(y, y_pred)\n",
    "plt.plot(y, y_pred,'.',alpha=0.7)\n",
    "y_max = np.max((y, y_pred))\n",
    "plt.plot((0,y_max), (0,y_max),color='black',alpha=0.2)\n",
    "plt.axes().set_aspect('equal')\n",
    "\n",
    "plt.show()"
   ]
  },
  {
   "cell_type": "code",
   "execution_count": null,
   "metadata": {
    "collapsed": false,
    "deletable": true,
    "editable": true
   },
   "outputs": [],
   "source": [
    "x_train.shape"
   ]
  },
  {
   "cell_type": "code",
   "execution_count": null,
   "metadata": {
    "collapsed": true,
    "deletable": true,
    "editable": true
   },
   "outputs": [],
   "source": []
  }
 ],
 "metadata": {
  "kernelspec": {
   "display_name": "Python 2",
   "language": "python",
   "name": "python2"
  },
  "language_info": {
   "codemirror_mode": {
    "name": "ipython",
    "version": 2
   },
   "file_extension": ".py",
   "mimetype": "text/x-python",
   "name": "python",
   "nbconvert_exporter": "python",
   "pygments_lexer": "ipython2",
   "version": "2.7.13"
  }
 },
 "nbformat": 4,
 "nbformat_minor": 2
}
