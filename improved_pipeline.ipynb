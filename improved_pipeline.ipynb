{
 "cells": [
  {
   "cell_type": "code",
   "execution_count": 1,
   "metadata": {
    "collapsed": false,
    "deletable": true,
    "editable": true
   },
   "outputs": [],
   "source": [
    "import matplotlib.pyplot as plt\n",
    "import seaborn as sns\n",
    "\n",
    "from utils.general_utils import (print_metrics)\n",
    "from utils.pandas_utils import train_validate_test_split\n",
    "from core.housing_prices_lib import (\n",
    "    PrepareHousingData, StreetVectorizer, featurize_df\n",
    ")\n",
    "from sklearn import metrics\n",
    "from sklearn.model_selection import (GridSearchCV, StratifiedKFold, cross_val_score)\n",
    "from sklearn.preprocessing import (Imputer)\n",
    "from sklearn.ensemble import RandomForestRegressor\n",
    "from sklearn.pipeline import Pipeline\n",
    "\n",
    "from xgboost import XGBRegressor\n",
    "\n",
    "import warnings\n",
    "warnings.filterwarnings(action='once')\n",
    "# from sklearn.ensemble import LGBMRegressor"
   ]
  },
  {
   "cell_type": "code",
   "execution_count": 2,
   "metadata": {
    "collapsed": false,
    "deletable": true,
    "editable": true
   },
   "outputs": [
    {
     "name": "stdout",
     "output_type": "stream",
     "text": [
      "Preparing Data: cleaning data\n",
      "Adding self scaling features\n",
      "Preparing Data: splitting test/train/validation\n"
     ]
    }
   ],
   "source": [
    "df = pd.read_csv('data/single_family_home_values.csv')\n",
    "\n",
    "print('Preparing Data: cleaning data')\n",
    "not_useful_fields = ['id','city','state']#, 'address']\n",
    "date_fields = ['lastSaleDate', 'priorSaleDate']\n",
    "required_fields = ['address','latitude','longitude','zipcode','bedrooms',\n",
    "                   'bathrooms','rooms','squareFootage',\n",
    "                   'lotSize','yearBuilt', 'lastSaleAmount',\n",
    "                   'lastSaleDate','estimated_value', 'priorSaleDate','priorSaleAmount', \n",
    "                   'squareFootageOverLotSize','bathroomsPerRooms','hasPriorSale','bathroomsPerRooms']\n",
    "zero_to_nan_fields = None\n",
    "nan_to_zero_fields = ['latitude','longitude','priorSaleDate','priorSaleAmount']\n",
    "\n",
    "## ADD FEATURES\n",
    "print('Adding self scaling features')\n",
    "df['squareFootageOverLotSize'] = df['squareFootage']/df['lotSize']\n",
    "df['bathroomsPerRooms'] = df['bathrooms']/(df['rooms']+.01)\n",
    "df['bathroomsPerRooms'] = df['rooms']/(df['squareFootage'])\n",
    "df['hasPriorSale'] = ~pd.isnull(df['priorSaleDate'])\n",
    "bad_idx = pd.isnull(df['yearBuilt'])\n",
    "df.loc[bad_idx, 'yearBuilt'] = 0\n",
    "\n",
    "\n",
    "print('Preparing Data: splitting test/train/validation')\n",
    "df_train, df_test, df_validation = train_validate_test_split(df)\n",
    "y_test = df_test['estimated_value']\n",
    "df_test = df_test[df_test.columns.drop('estimated_value')]\n",
    "\n",
    "y_train = df_train['estimated_value'] \n",
    "df_train = df_train[df_train.columns.drop('estimated_value')]\n",
    "\n",
    "# y_train_sc = np.log(y_train+1)\n",
    "# y_train_mu = np.mean(y_train_sc)\n",
    "# y_train_std = np.std(y_train_sc)\n",
    "# Y_train_sc = (y_train_sc-y_train_mu)/y_train_std\n",
    "\n",
    "# y_test_sc = np.log(y_test+1)\n",
    "# y_test_mu = np.mean(y_test_sc)\n",
    "# y_test_std = np.std(y_test_sc)\n",
    "# y_test_sc = (y_test_sc-y_train_mu)/y_test_std\n",
    "\n",
    "y_train_sc = y_train\n",
    "y_test_sc = y_test\n",
    "\n"
   ]
  },
  {
   "cell_type": "code",
   "execution_count": 4,
   "metadata": {
    "collapsed": false,
    "deletable": true,
    "editable": true
   },
   "outputs": [
    {
     "name": "stdout",
     "output_type": "stream",
     "text": [
      "Setting up pipeline\n",
      "Featurize\n"
     ]
    }
   ],
   "source": [
    "from sklearn.ensemble import (\n",
    "    ExtraTreesRegressor, GradientBoostingRegressor, AdaBoostRegressor \n",
    ")\n",
    "from sklearn.pipeline import FeatureUnion\n",
    "from sklearn.linear_model import LinearRegression\n",
    "print(\"Setting up pipeline\")\n",
    "features = ('latitude', 'longitude', 'zipcode',\n",
    "            'bedrooms', 'bathrooms','rooms', \n",
    "            'squareFootage', 'lotSize', \n",
    "            'yearBuilt',\n",
    "            'lastSaleAmount','lastSaleDateYear','lastSaleDateMonth','lastSaleDateDayOfWeek',\n",
    "           'priorSaleAmount','priorSaleDateYear','priorSaleDateMonth','priorSaleDateDayOfWeek', \n",
    "            'squareFootageOverLotSize','bathroomsPerRooms','hasPriorSale','bathroomsPerRooms')\n",
    "\n",
    "\n",
    "#: Note imputer will strip away column heads, it has to be after featurize\n",
    "#reg_function = LGBMRegressor()\n",
    "#reg_function = XGBRegressor()\n",
    "# reg_function = RandomForestRegressor(n_jobs=3, criterion='mae') # about the same, slower by orders of magnitude\n",
    "reg_function = RandomForestRegressor(n_jobs=3, criterion='mse')\n",
    "# reg_function = LinearRegression() # Really Really bad\n",
    "#reg_function = GradientBoostingRegressor()\n",
    "#reg_function = ExtraTreesRegressor(n_estimators=2)\n",
    "#reg_function = AdaBoostRegressor(); #Really bad\n",
    "\n",
    "\n",
    "# prepare_data_pipeline = Pipeline([\n",
    "#             ('prepare_data', PrepareHousingData(required_fields=required_fields,\n",
    "#                                          date_fields=date_fields,\n",
    "#                                         zero_to_nan_fields=zero_to_nan_fields,\n",
    "#                                         nan_to_zero_fields=nan_to_zero_fields)), \n",
    "#           ('featurize', featurize(features)),\n",
    "#           ('imputer', Imputer(missing_values=np.nan, strategy=\"mean\", axis=0)),\n",
    "#             ])\n",
    "prepare_data_pipeline = Pipeline([\n",
    "\n",
    "        ('prepare_data', PrepareHousingData(required_fields=required_fields,\n",
    "                                         date_fields=date_fields,\n",
    "                                        zero_to_nan_fields=zero_to_nan_fields,\n",
    "                                        nan_to_zero_fields=nan_to_zero_fields)), \n",
    "            ('union', FeatureUnion(\n",
    "                transformer_list=[\n",
    "                    # Extracting street vector\n",
    "#                    ('subject',  StreetVectorizer()),\n",
    "#                     ('imputerize_df', imputerize_df(features, df_out=True)),\n",
    "                    # Featurizing all other values\n",
    "                    ('featurize_df', featurize_df(features, df_out=False)),\n",
    "                ]\n",
    "             )),\n",
    "                      ('imputer', Imputer(missing_values=np.nan, strategy=\"mean\", axis=0)),\n",
    "            ])\n",
    "\n",
    "fit_data_pipeline = Pipeline([\n",
    "#      ('dropout', Dropout(dropout_rate=0.99)),\n",
    "          ('forest', reg_function),\n",
    "            \n",
    "            ])"
   ]
  },
  {
   "cell_type": "code",
   "execution_count": 5,
   "metadata": {
    "collapsed": false,
    "deletable": true,
    "editable": true
   },
   "outputs": [],
   "source": [
    "# # from keras.layers import Dense, Dropout\n",
    "# from keras.models import Model, Sequential\n",
    "# from keras.wrappers.scikit_learn import KerasRegressor\n",
    "# def create_model(optimizer='adagrad',\n",
    "#                  kernel_initializer='glorot_uniform', \n",
    "#                  dropout=0.2):\n",
    "#     model = Sequential()\n",
    "#     model.add(Dense(64,activation='relu',kernel_initializer=kernel_initializer))\n",
    "#     model.add(Dropout(dropout))\n",
    "#     model.add(Dense(1,activation='sigmoid',kernel_initializer=kernel_initializer))\n",
    "\n",
    "#     model.compile(loss='mean_squared_error',optimizer=optimizer, metrics=['accuracy'])\n",
    "\n",
    "#     return model\n",
    "\n",
    "# # wrap the model using the function you created\n",
    "# clf = KerasRegressor(build_fn=create_model,verbose=0)\n",
    "# scaler = StandardScaler()\n",
    "\n",
    "# fit_data_pipeline = Pipeline([\n",
    "# #     ('preprocess',scaler),\n",
    "#           ('keras', clf)\n",
    "#             ])"
   ]
  },
  {
   "cell_type": "code",
   "execution_count": 6,
   "metadata": {
    "collapsed": false
   },
   "outputs": [
    {
     "data": {
      "text/plain": [
       "Index([u'id', u'address', u'city', u'state', u'zipcode', u'latitude',\n",
       "       u'longitude', u'bedrooms', u'bathrooms', u'rooms', u'squareFootage',\n",
       "       u'lotSize', u'yearBuilt', u'lastSaleDate', u'lastSaleAmount',\n",
       "       u'priorSaleDate', u'priorSaleAmount', u'squareFootageOverLotSize',\n",
       "       u'bathroomsPerRooms', u'hasPriorSale'],\n",
       "      dtype='object')"
      ]
     },
     "execution_count": 6,
     "metadata": {},
     "output_type": "execute_result"
    }
   ],
   "source": [
    "df_test.keys()"
   ]
  },
  {
   "cell_type": "code",
   "execution_count": 7,
   "metadata": {
    "collapsed": false
   },
   "outputs": [
    {
     "data": {
      "text/plain": [
       "Index([u'id', u'address', u'city', u'state', u'zipcode', u'latitude',\n",
       "       u'longitude', u'bedrooms', u'bathrooms', u'rooms', u'squareFootage',\n",
       "       u'lotSize', u'yearBuilt', u'lastSaleDate', u'lastSaleAmount',\n",
       "       u'priorSaleDate', u'priorSaleAmount', u'squareFootageOverLotSize',\n",
       "       u'bathroomsPerRooms', u'hasPriorSale'],\n",
       "      dtype='object')"
      ]
     },
     "execution_count": 7,
     "metadata": {},
     "output_type": "execute_result"
    }
   ],
   "source": [
    "df_train.keys()"
   ]
  },
  {
   "cell_type": "code",
   "execution_count": 8,
   "metadata": {
    "collapsed": false,
    "deletable": true,
    "editable": true,
    "scrolled": false
   },
   "outputs": [
    {
     "name": "stdout",
     "output_type": "stream",
     "text": [
      "Preparing training data\n"
     ]
    },
    {
     "name": "stderr",
     "output_type": "stream",
     "text": [
      "/Users/derringi/.edm/envs/may2018/lib/python2.7/site-packages/sklearn/preprocessing/data.py:586: DeprecationWarning: Passing 1d arrays as data is deprecated in 0.17 and will raise ValueError in 0.19. Reshape your data either using X.reshape(-1, 1) if your data has a single feature or X.reshape(1, -1) if it contains a single sample.\n",
      "  warnings.warn(DEPRECATION_MSG_1D, DeprecationWarning)\n",
      "/Users/derringi/.edm/envs/may2018/lib/python2.7/site-packages/sklearn/utils/validation.py:429: DataConversionWarning: Data with input dtype int64 was converted to float64 by StandardScaler.\n",
      "  warnings.warn(msg, _DataConversionWarning)\n",
      "/Users/derringi/.edm/envs/may2018/lib/python2.7/site-packages/sklearn/utils/validation.py:429: DataConversionWarning: Data with input dtype int64 was converted to float64 by MinMaxScaler.\n",
      "  warnings.warn(msg, _DataConversionWarning)\n",
      "/Users/derringi/.edm/envs/may2018/lib/python2.7/site-packages/sklearn/pipeline.py:270: DataConversionWarning: A column-vector y was passed when a 1d array was expected. Please change the shape of y to (n_samples,), for example using ravel().\n",
      "  self._final_estimator.fit(Xt, y, **fit_params)\n"
     ]
    },
    {
     "name": "stdout",
     "output_type": "stream",
     "text": [
      "Fitting model on training data\n"
     ]
    }
   ],
   "source": [
    "print(\"Preparing training data\")\n",
    "x_train = prepare_data_pipeline.fit_transform(X = df_train, y = y_train_sc.values.reshape((-1,1)))\n",
    "print(\"Fitting model on training data\")\n",
    "model = fit_data_pipeline.fit(X = x_train, y = y_train_sc.values.reshape((-1,1)))\n"
   ]
  },
  {
   "cell_type": "code",
   "execution_count": 9,
   "metadata": {
    "collapsed": false,
    "deletable": true,
    "editable": true,
    "scrolled": false
   },
   "outputs": [
    {
     "name": "stdout",
     "output_type": "stream",
     "text": [
      "Evaluating model on training data\n",
      "Sqrt mse: 61489.5208708\n",
      "Mean absolute error: 24305.3132083\n",
      "R2 score: 0.985102039549\n",
      "Absolute mean relative error: 0.0333668416667\n"
     ]
    },
    {
     "data": {
      "image/png": "[encoded data removed]",
      "text/plain": [
       "<matplotlib.figure.Figure at 0x114801350>"
      ]
     },
     "metadata": {},
     "output_type": "display_data"
    },
    {
     "name": "stdout",
     "output_type": "stream",
     "text": [
      "Evaluating model on testing data\n",
      "Sqrt mse: 118233.361486\n",
      "Mean absolute error: 53656.9705333\n",
      "R2 score: 0.906418028576\n",
      "Absolute mean relative error: 0.0850586450487\n"
     ]
    },
    {
     "data": {
      "image/png": "[encoded data removed]",
      "text/plain": [
       "<matplotlib.figure.Figure at 0x114bb0a50>"
      ]
     },
     "metadata": {},
     "output_type": "display_data"
    },
    {
     "name": "stdout",
     "output_type": "stream",
     "text": [
      "Successfully fit\n"
     ]
    }
   ],
   "source": [
    "\n",
    "print(\"Evaluating model on training data\")\n",
    "y_pred = model.predict(x_train)\n",
    "# y_pred = model.named_steps['forest'].predict(x_train)\n",
    "print_metrics(y_train_sc.values, y_pred)\n",
    "plt.plot(y_train_sc.values, y_pred,'.')\n",
    "y_max = (np.max((y_train_sc.values, y_pred.flatten())))\n",
    "# plt.plot((0,y_max), (0,y_max),color='black')\n",
    "plt.show()\n",
    "\n",
    "print(\"Evaluating model on testing data\")\n",
    "\n",
    "x_test = prepare_data_pipeline.transform(df_test)\n",
    "y_test_pred = model.predict(x_test)\n",
    "# y_test_pred = model.named_steps['forest'].predict(X_test)\n",
    "print_metrics(y_test_sc.values, y_test_pred)\n",
    "plt.plot(y_test_sc.values, y_test_pred.flatten(),'.', alpha=0.2)\n",
    "y_max = np.max((y_test_sc, y_test_pred.flatten()))\n",
    "# plt.plot((0,y_max), (0,y_max),color='black')\n",
    "\n",
    "plt.show()\n",
    "print(\"Successfully fit\")"
   ]
  },
  {
   "cell_type": "code",
   "execution_count": null,
   "metadata": {
    "collapsed": true
   },
   "outputs": [],
   "source": []
  },
  {
   "cell_type": "code",
   "execution_count": null,
   "metadata": {
    "collapsed": false,
    "deletable": true,
    "editable": true,
    "scrolled": true
   },
   "outputs": [],
   "source": [
    "[c,b] = np.histogram(y_train_sc.values- y_pred.flatten(), bins = np.linspace(-1e6,1e6,100), normed=True)\n",
    "plt.plot(b[:-1],c,'k')\n",
    "[c,b] = np.histogram(y_test_sc.values- y_test_pred.flatten(), bins = np.linspace(-1e6,1e6,100), normed=True)\n",
    "plt.plot(b[:-1],c,'r')\n",
    "plt.show()"
   ]
  },
  {
   "cell_type": "code",
   "execution_count": null,
   "metadata": {
    "collapsed": false,
    "deletable": true,
    "editable": true
   },
   "outputs": [],
   "source": [
    "from sklearn.externals import joblib\n",
    "filename = 'finalized_prepare_data_pipeline.sav'\n",
    "joblib.dump(prepare_data_pipeline, filename)\n",
    "filename = 'finalized_fit_data_pipeline.sav'\n",
    "joblib.dump(fit_data_pipeline, filename)\n",
    "  \n",
    "# some time later...\n",
    "# load the model from disk\n",
    "# loaded_model = joblib.load(filename)\n",
    "# result = loaded_model.score(X_test, Y_test)"
   ]
  },
  {
   "cell_type": "code",
   "execution_count": null,
   "metadata": {
    "collapsed": false,
    "deletable": true,
    "editable": true,
    "scrolled": true
   },
   "outputs": [],
   "source": [
    "sns.barplot(np.arange(len(fit_data_pipeline.steps[0][1].feature_importances_)),fit_data_pipeline.steps[0][1].feature_importances_)\n",
    "plt.show()\n",
    "(fit_data_pipeline.steps[0][1].feature_importances_)"
   ]
  },
  {
   "cell_type": "code",
   "execution_count": null,
   "metadata": {
    "collapsed": false
   },
   "outputs": [],
   "source": [
    "features"
   ]
  },
  {
   "cell_type": "code",
   "execution_count": null,
   "metadata": {
    "collapsed": false,
    "deletable": true,
    "editable": true
   },
   "outputs": [],
   "source": [
    "plt.plot(X_train['latitude'].values, X_train['longitude'].values, '.')\n",
    "plt.show()"
   ]
  },
  {
   "cell_type": "code",
   "execution_count": null,
   "metadata": {
    "collapsed": true
   },
   "outputs": [],
   "source": []
  },
  {
   "cell_type": "code",
   "execution_count": null,
   "metadata": {
    "collapsed": false,
    "deletable": true,
    "editable": true
   },
   "outputs": [],
   "source": [
    "#: Work on using grid-searches\n",
    "# params = {'forest__n_estimators':  (39,42)}\n",
    "params = {'forest__n_estimators':  np.arange(5,45,5)}\n",
    "# params = {'forest__n_estimators':  np.arange(35,45,5),\n",
    "#           'forest__max_features':  ['auto','sqrt']}\n",
    "\n",
    "from sklearn.preprocessing import FunctionTransformer\n",
    "# transformer = FunctionTransformer(np.log1p)\n",
    "# transformer.transform(y)\n",
    "grid = GridSearchCV(fit_data_pipeline, params)\n",
    "\n",
    "grid.fit(X = x_train, y = y_train)\n",
    "\n",
    "#: Definining a specified cross-validation technique\n",
    "cv= StratifiedKFold(n_splits=2)\n",
    "\n",
    "# Alternatively, can say can say cv=3 to say a 3-repeat cross-validator\n",
    "grid_search = GridSearchCV(fit_data_pipeline, params, cv=5)\n",
    "#gsearch = GridSearchCV(pipeline, params)\n",
    "grid_search.fit(X = x_train, y = y_train)\n",
    "best_pipeline = grid_search.best_estimator_\n",
    "best_pipeline.get_params()['forest']"
   ]
  },
  {
   "cell_type": "code",
   "execution_count": null,
   "metadata": {
    "collapsed": false,
    "deletable": true,
    "editable": true
   },
   "outputs": [],
   "source": [
    "print(grid_search.cv_results_['mean_train_score'])\n",
    "plt.plot(params['forest__n_estimators'], grid_search.cv_results_['mean_train_score'],'k')\n",
    "plt.plot(params['forest__n_estimators'], grid_search.cv_results_['mean_test_score'],'r')\n",
    "plt.show()"
   ]
  },
  {
   "cell_type": "code",
   "execution_count": null,
   "metadata": {
    "collapsed": false,
    "deletable": true,
    "editable": true
   },
   "outputs": [],
   "source": [
    "best_pipeline = grid_search.best_estimator_\n",
    "best_pipeline.get_params()['forest']"
   ]
  },
  {
   "cell_type": "code",
   "execution_count": null,
   "metadata": {
    "collapsed": false,
    "deletable": true,
    "editable": true
   },
   "outputs": [],
   "source": [
    "best_pipeline.feature_importances"
   ]
  },
  {
   "cell_type": "code",
   "execution_count": null,
   "metadata": {
    "collapsed": false,
    "deletable": true,
    "editable": true
   },
   "outputs": [],
   "source": [
    "X = X_test\n",
    "y = y_test\n",
    "y_pred = best_pipeline.predict(X)\n",
    "print_metrics(y, y_pred)\n",
    "plt.plot(y, y_pred,'.',alpha=0.7)\n",
    "y_max = np.max((y, y_pred))\n",
    "plt.plot((0,y_max), (0,y_max),color='black',alpha=0.2)\n",
    "plt.axes().set_aspect('equal')\n",
    "\n",
    "plt.show()"
   ]
  },
  {
   "cell_type": "code",
   "execution_count": null,
   "metadata": {
    "collapsed": false,
    "deletable": true,
    "editable": true
   },
   "outputs": [],
   "source": [
    "x_train.shape"
   ]
  }
 ],
 "metadata": {
  "kernelspec": {
   "display_name": "Python 2",
   "language": "python",
   "name": "python2"
  },
  "language_info": {
   "codemirror_mode": {
    "name": "ipython",
    "version": 2
   },
   "file_extension": ".py",
   "mimetype": "text/x-python",
   "name": "python",
   "nbconvert_exporter": "python",
   "pygments_lexer": "ipython2",
   "version": "2.7.13"
  }
 },
 "nbformat": 4,
 "nbformat_minor": 2
}
