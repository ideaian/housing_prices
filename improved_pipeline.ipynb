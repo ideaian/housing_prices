{
 "cells": [
  {
   "cell_type": "code",
   "execution_count": 1,
   "metadata": {
    "collapsed": false,
    "deletable": true,
    "editable": true
   },
   "outputs": [],
   "source": [
    "\n",
    "from find_prices_nonoverlap import *\n",
    "from sklearn import metrics\n",
    "from sklearn.model_selection import (GridSearchCV, StratifiedKFold, cross_val_score)\n",
    "import warnings\n",
    "warnings.filterwarnings(action='once')"
   ]
  },
  {
   "cell_type": "code",
   "execution_count": 3,
   "metadata": {
    "collapsed": false
   },
   "outputs": [
    {
     "name": "stdout",
     "output_type": "stream",
     "text": [
      "Preparing Data: cleaning data\n",
      "Nulling field priorSaleDate\n"
     ]
    },
    {
     "name": "stderr",
     "output_type": "stream",
     "text": [
      "find_prices_nonoverlap.py:67: SettingWithCopyWarning: \n",
      "A value is trying to be set on a copy of a slice from a DataFrame\n",
      "\n",
      "See the caveats in the documentation: http://pandas.pydata.org/pandas-docs/stable/indexing.html#indexing-view-versus-copy\n",
      "  df[field][pd.isnull(df[field])] = 0\n"
     ]
    },
    {
     "name": "stdout",
     "output_type": "stream",
     "text": [
      "Nulling field priorSaleAmount\n",
      "Preparing Data: splitting test/train/validation\n"
     ]
    }
   ],
   "source": [
    "df = pd.read_csv('single_family_home_values.csv')\n",
    "\n",
    "print('Preparing Data: cleaning data')\n",
    "not_useful_fields = ['id','city','state']#, 'address']\n",
    "date_fields = ['lastSaleDate', 'priorSaleDate']\n",
    "required_fields = ['address','latitude','longitude','zipcode','bedrooms',\n",
    "                   'bathrooms','rooms','squareFootage',\n",
    "                   'lotSize','yearBuilt',\n",
    "                   'lastSaleDate','estimated_value']\n",
    "zero_to_nan_fields = None\n",
    "nan_to_zero_fields = ['priorSaleDate','priorSaleAmount']\n",
    "# categorical_fields = ['zipcode']\n",
    "remove_outliers=False\n",
    "df2, new_fields = prepare_data(df, not_useful_fields=not_useful_fields,\n",
    "        date_fields=date_fields,\n",
    "        remove_outliers=remove_outliers,\n",
    "        required_fields=required_fields,\n",
    "        zero_to_nan_fields=zero_to_nan_fields,\n",
    "        nan_to_zero_fields=nan_to_zero_fields,\n",
    "        )\n",
    "#         categorical_fields=categorical_fields,\n",
    "print('Preparing Data: splitting test/train/validation')\n",
    "df_train, df_test, df_validation = train_validate_test_split(df2)\n",
    "\n",
    "X_test = df_test[df_test.columns.drop('estimated_value')]\n",
    "y_test = df_test['estimated_value']\n",
    "\n",
    "X = df_train[df_train.columns.drop('estimated_value')]\n",
    "y = df_train['estimated_value'] "
   ]
  },
  {
   "cell_type": "code",
   "execution_count": 4,
   "metadata": {
    "collapsed": false,
    "deletable": true,
    "editable": true,
    "scrolled": true
   },
   "outputs": [
    {
     "name": "stdout",
     "output_type": "stream",
     "text": [
      "Setting up pipeline\n"
     ]
    }
   ],
   "source": [
    "from sklearn.ensemble import (\n",
    "    ExtraTreesRegressor, GradientBoostingRegressor, AdaBoostRegressor \n",
    ")\n",
    "\n",
    "print(\"Setting up pipeline\")\n",
    "features = ('latitude', 'longitude', 'zipcode',\n",
    "            'bedrooms', 'bathrooms','rooms', \n",
    "            'squareFootage', 'lotSize', \n",
    "            'yearBuilt',\n",
    "            'lastSaleAmount','lastSaleDateYear','lastSaleDateMonth','lastSaleDateDayOfWeek')\n",
    "\n",
    "\n",
    "#: Note imputer will strip away column heads, it has to be after featurize\n",
    "#reg_function = LGBMRegressor()\n",
    "#reg_function = XGBRegressor()\n",
    "reg_function = RandomForestRegressor(n_jobs=3)\n",
    "#reg_function = GradientBoostingRegressor()\n",
    "#reg_function = ExtraTreesRegressor(n_estimators=2)\n",
    "#reg_function = AdaBoostRegressor(); #Really bad\n",
    "pipeline = Pipeline([\n",
    "          ('featurize', featurize(features)),\n",
    "          ('imputer', Imputer(missing_values=np.nan, strategy=\"mean\", axis=0)),\n",
    "          ('forest', reg_function,)\n",
    "            ])\n"
   ]
  },
  {
   "cell_type": "code",
   "execution_count": 7,
   "metadata": {
    "collapsed": false
   },
   "outputs": [
    {
     "name": "stdout",
     "output_type": "stream",
     "text": [
      "Fitting model on training data\n",
      "Evaluating model on training data\n",
      "73543.1923785\n",
      "28193.4995439\n",
      "0.97912794412\n",
      "0.0382840815357\n"
     ]
    },
    {
     "data": {
      "image/png": "[encoded data removed]",
      "text/plain": [
       "<matplotlib.figure.Figure at 0x114dfd650>"
      ]
     },
     "metadata": {},
     "output_type": "display_data"
    },
    {
     "name": "stdout",
     "output_type": "stream",
     "text": [
      "Evaluating model on testing data\n"
     ]
    },
    {
     "ename": "ValueError",
     "evalue": "zipcode: y contains new labels: [80033 80202]",
     "output_type": "error",
     "traceback": [
      "\u001b[1;31m---------------------------------------------------------------------------\u001b[0m",
      "\u001b[1;31mValueError\u001b[0m                                Traceback (most recent call last)",
      "\u001b[1;32m<ipython-input-7-c56f1aeeca2c>\u001b[0m in \u001b[0;36m<module>\u001b[1;34m()\u001b[0m\n\u001b[0;32m     13\u001b[0m \u001b[1;33m\u001b[0m\u001b[0m\n\u001b[0;32m     14\u001b[0m \u001b[1;32mprint\u001b[0m\u001b[1;33m(\u001b[0m\u001b[1;34m\"Evaluating model on testing data\"\u001b[0m\u001b[1;33m)\u001b[0m\u001b[1;33m\u001b[0m\u001b[0m\n\u001b[1;32m---> 15\u001b[1;33m \u001b[0my_test_pred\u001b[0m \u001b[1;33m=\u001b[0m \u001b[0mmodel\u001b[0m\u001b[1;33m.\u001b[0m\u001b[0mpredict\u001b[0m\u001b[1;33m(\u001b[0m\u001b[0mX_test\u001b[0m\u001b[1;33m)\u001b[0m\u001b[1;33m\u001b[0m\u001b[0m\n\u001b[0m\u001b[0;32m     16\u001b[0m \u001b[0mprint_metrics\u001b[0m\u001b[1;33m(\u001b[0m\u001b[0my_test\u001b[0m\u001b[1;33m,\u001b[0m \u001b[0my_test_pred\u001b[0m\u001b[1;33m)\u001b[0m\u001b[1;33m\u001b[0m\u001b[0m\n\u001b[0;32m     17\u001b[0m \u001b[0mplt\u001b[0m\u001b[1;33m.\u001b[0m\u001b[0mplot\u001b[0m\u001b[1;33m(\u001b[0m\u001b[1;33m(\u001b[0m\u001b[0my_test\u001b[0m\u001b[1;33m)\u001b[0m\u001b[1;33m,\u001b[0m \u001b[1;33m(\u001b[0m\u001b[0my_test_pred\u001b[0m\u001b[1;33m)\u001b[0m\u001b[1;33m,\u001b[0m\u001b[1;34m'.'\u001b[0m\u001b[1;33m,\u001b[0m \u001b[0malpha\u001b[0m\u001b[1;33m=\u001b[0m\u001b[1;36m0.2\u001b[0m\u001b[1;33m)\u001b[0m\u001b[1;33m\u001b[0m\u001b[0m\n",
      "\u001b[1;32m/Users/derringi/.edm/envs/may2018/lib/python2.7/site-packages/sklearn/utils/metaestimators.pyc\u001b[0m in \u001b[0;36m<lambda>\u001b[1;34m(*args, **kwargs)\u001b[0m\n\u001b[0;32m     52\u001b[0m \u001b[1;33m\u001b[0m\u001b[0m\n\u001b[0;32m     53\u001b[0m         \u001b[1;31m# lambda, but not partial, allows help() to work with update_wrapper\u001b[0m\u001b[1;33m\u001b[0m\u001b[1;33m\u001b[0m\u001b[0m\n\u001b[1;32m---> 54\u001b[1;33m         \u001b[0mout\u001b[0m \u001b[1;33m=\u001b[0m \u001b[1;32mlambda\u001b[0m \u001b[1;33m*\u001b[0m\u001b[0margs\u001b[0m\u001b[1;33m,\u001b[0m \u001b[1;33m**\u001b[0m\u001b[0mkwargs\u001b[0m\u001b[1;33m:\u001b[0m \u001b[0mself\u001b[0m\u001b[1;33m.\u001b[0m\u001b[0mfn\u001b[0m\u001b[1;33m(\u001b[0m\u001b[0mobj\u001b[0m\u001b[1;33m,\u001b[0m \u001b[1;33m*\u001b[0m\u001b[0margs\u001b[0m\u001b[1;33m,\u001b[0m \u001b[1;33m**\u001b[0m\u001b[0mkwargs\u001b[0m\u001b[1;33m)\u001b[0m\u001b[1;33m\u001b[0m\u001b[0m\n\u001b[0m\u001b[0;32m     55\u001b[0m         \u001b[1;31m# update the docstring of the returned function\u001b[0m\u001b[1;33m\u001b[0m\u001b[1;33m\u001b[0m\u001b[0m\n\u001b[0;32m     56\u001b[0m         \u001b[0mupdate_wrapper\u001b[0m\u001b[1;33m(\u001b[0m\u001b[0mout\u001b[0m\u001b[1;33m,\u001b[0m \u001b[0mself\u001b[0m\u001b[1;33m.\u001b[0m\u001b[0mfn\u001b[0m\u001b[1;33m)\u001b[0m\u001b[1;33m\u001b[0m\u001b[0m\n",
      "\u001b[1;32m/Users/derringi/.edm/envs/may2018/lib/python2.7/site-packages/sklearn/pipeline.pyc\u001b[0m in \u001b[0;36mpredict\u001b[1;34m(self, X)\u001b[0m\n\u001b[0;32m    324\u001b[0m         \u001b[1;32mfor\u001b[0m \u001b[0mname\u001b[0m\u001b[1;33m,\u001b[0m \u001b[0mtransform\u001b[0m \u001b[1;32min\u001b[0m \u001b[0mself\u001b[0m\u001b[1;33m.\u001b[0m\u001b[0msteps\u001b[0m\u001b[1;33m[\u001b[0m\u001b[1;33m:\u001b[0m\u001b[1;33m-\u001b[0m\u001b[1;36m1\u001b[0m\u001b[1;33m]\u001b[0m\u001b[1;33m:\u001b[0m\u001b[1;33m\u001b[0m\u001b[0m\n\u001b[0;32m    325\u001b[0m             \u001b[1;32mif\u001b[0m \u001b[0mtransform\u001b[0m \u001b[1;32mis\u001b[0m \u001b[1;32mnot\u001b[0m \u001b[0mNone\u001b[0m\u001b[1;33m:\u001b[0m\u001b[1;33m\u001b[0m\u001b[0m\n\u001b[1;32m--> 326\u001b[1;33m                 \u001b[0mXt\u001b[0m \u001b[1;33m=\u001b[0m \u001b[0mtransform\u001b[0m\u001b[1;33m.\u001b[0m\u001b[0mtransform\u001b[0m\u001b[1;33m(\u001b[0m\u001b[0mXt\u001b[0m\u001b[1;33m)\u001b[0m\u001b[1;33m\u001b[0m\u001b[0m\n\u001b[0m\u001b[0;32m    327\u001b[0m         \u001b[1;32mreturn\u001b[0m \u001b[0mself\u001b[0m\u001b[1;33m.\u001b[0m\u001b[0msteps\u001b[0m\u001b[1;33m[\u001b[0m\u001b[1;33m-\u001b[0m\u001b[1;36m1\u001b[0m\u001b[1;33m]\u001b[0m\u001b[1;33m[\u001b[0m\u001b[1;33m-\u001b[0m\u001b[1;36m1\u001b[0m\u001b[1;33m]\u001b[0m\u001b[1;33m.\u001b[0m\u001b[0mpredict\u001b[0m\u001b[1;33m(\u001b[0m\u001b[0mXt\u001b[0m\u001b[1;33m)\u001b[0m\u001b[1;33m\u001b[0m\u001b[0m\n\u001b[0;32m    328\u001b[0m \u001b[1;33m\u001b[0m\u001b[0m\n",
      "\u001b[1;32m/Users/derringi/.edm/envs/may2018/lib/python2.7/site-packages/sklearn_pandas/dataframe_mapper.pyc\u001b[0m in \u001b[0;36mtransform\u001b[1;34m(self, X)\u001b[0m\n\u001b[0;32m    277\u001b[0m             \u001b[1;32mif\u001b[0m \u001b[0mtransformers\u001b[0m \u001b[1;32mis\u001b[0m \u001b[1;32mnot\u001b[0m \u001b[0mNone\u001b[0m\u001b[1;33m:\u001b[0m\u001b[1;33m\u001b[0m\u001b[0m\n\u001b[0;32m    278\u001b[0m                 \u001b[1;32mwith\u001b[0m \u001b[0madd_column_names_to_exception\u001b[0m\u001b[1;33m(\u001b[0m\u001b[0mcolumns\u001b[0m\u001b[1;33m)\u001b[0m\u001b[1;33m:\u001b[0m\u001b[1;33m\u001b[0m\u001b[0m\n\u001b[1;32m--> 279\u001b[1;33m                     \u001b[0mXt\u001b[0m \u001b[1;33m=\u001b[0m \u001b[0mtransformers\u001b[0m\u001b[1;33m.\u001b[0m\u001b[0mtransform\u001b[0m\u001b[1;33m(\u001b[0m\u001b[0mXt\u001b[0m\u001b[1;33m)\u001b[0m\u001b[1;33m\u001b[0m\u001b[0m\n\u001b[0m\u001b[0;32m    280\u001b[0m             \u001b[0mextracted\u001b[0m\u001b[1;33m.\u001b[0m\u001b[0mappend\u001b[0m\u001b[1;33m(\u001b[0m\u001b[0m_handle_feature\u001b[0m\u001b[1;33m(\u001b[0m\u001b[0mXt\u001b[0m\u001b[1;33m)\u001b[0m\u001b[1;33m)\u001b[0m\u001b[1;33m\u001b[0m\u001b[0m\n\u001b[0;32m    281\u001b[0m \u001b[1;33m\u001b[0m\u001b[0m\n",
      "\u001b[1;32m/Users/derringi/.edm/envs/may2018/lib/python2.7/site-packages/sklearn/preprocessing/label.pyc\u001b[0m in \u001b[0;36mtransform\u001b[1;34m(self, y)\u001b[0m\n\u001b[0;32m    151\u001b[0m         \u001b[1;32mif\u001b[0m \u001b[0mlen\u001b[0m\u001b[1;33m(\u001b[0m\u001b[0mnp\u001b[0m\u001b[1;33m.\u001b[0m\u001b[0mintersect1d\u001b[0m\u001b[1;33m(\u001b[0m\u001b[0mclasses\u001b[0m\u001b[1;33m,\u001b[0m \u001b[0mself\u001b[0m\u001b[1;33m.\u001b[0m\u001b[0mclasses_\u001b[0m\u001b[1;33m)\u001b[0m\u001b[1;33m)\u001b[0m \u001b[1;33m<\u001b[0m \u001b[0mlen\u001b[0m\u001b[1;33m(\u001b[0m\u001b[0mclasses\u001b[0m\u001b[1;33m)\u001b[0m\u001b[1;33m:\u001b[0m\u001b[1;33m\u001b[0m\u001b[0m\n\u001b[0;32m    152\u001b[0m             \u001b[0mdiff\u001b[0m \u001b[1;33m=\u001b[0m \u001b[0mnp\u001b[0m\u001b[1;33m.\u001b[0m\u001b[0msetdiff1d\u001b[0m\u001b[1;33m(\u001b[0m\u001b[0mclasses\u001b[0m\u001b[1;33m,\u001b[0m \u001b[0mself\u001b[0m\u001b[1;33m.\u001b[0m\u001b[0mclasses_\u001b[0m\u001b[1;33m)\u001b[0m\u001b[1;33m\u001b[0m\u001b[0m\n\u001b[1;32m--> 153\u001b[1;33m             \u001b[1;32mraise\u001b[0m \u001b[0mValueError\u001b[0m\u001b[1;33m(\u001b[0m\u001b[1;34m\"y contains new labels: %s\"\u001b[0m \u001b[1;33m%\u001b[0m \u001b[0mstr\u001b[0m\u001b[1;33m(\u001b[0m\u001b[0mdiff\u001b[0m\u001b[1;33m)\u001b[0m\u001b[1;33m)\u001b[0m\u001b[1;33m\u001b[0m\u001b[0m\n\u001b[0m\u001b[0;32m    154\u001b[0m         \u001b[1;32mreturn\u001b[0m \u001b[0mnp\u001b[0m\u001b[1;33m.\u001b[0m\u001b[0msearchsorted\u001b[0m\u001b[1;33m(\u001b[0m\u001b[0mself\u001b[0m\u001b[1;33m.\u001b[0m\u001b[0mclasses_\u001b[0m\u001b[1;33m,\u001b[0m \u001b[0my\u001b[0m\u001b[1;33m)\u001b[0m\u001b[1;33m\u001b[0m\u001b[0m\n\u001b[0;32m    155\u001b[0m \u001b[1;33m\u001b[0m\u001b[0m\n",
      "\u001b[1;31mValueError\u001b[0m: zipcode: y contains new labels: [80033 80202]"
     ]
    }
   ],
   "source": [
    "\n",
    "    \n",
    "print(\"Fitting model on training data\")\n",
    "model = pipeline.fit(X = X, y = y)\n",
    "\n",
    "print(\"Evaluating model on training data\")\n",
    "y_pred = model.predict(X)\n",
    "print_metrics(y, y_pred)\n",
    "plt.plot((y), (y_pred),'.')\n",
    "y_max = (np.max((y, y_pred)))\n",
    "plt.plot((0,y_max), (0,y_max),color='black')\n",
    "plt.show()\n",
    "\n",
    "print(\"Evaluating model on testing data\")\n",
    "y_test_pred = model.predict(X_test)\n",
    "print_metrics(y_test, y_test_pred)\n",
    "plt.plot((y_test), (y_test_pred),'.', alpha=0.2)\n",
    "y_max = (np.max((y_test, y_test_pred)))\n",
    "plt.plot((0,y_max), (0,y_max),color='black')\n",
    "plt.plot((0,y_max), (0,y_max*1.05),color='red')\n",
    "plt.plot((0,y_max), (0,y_max*0.95),color='red')\n",
    "plt.xlim(0,1e6)\n",
    "plt.ylim(0,1e6)\n",
    "plt.show()"
   ]
  },
  {
   "cell_type": "code",
   "execution_count": null,
   "metadata": {
    "collapsed": false
   },
   "outputs": [],
   "source": [
    "[c,b] = np.histogram(y_pred-y, bins=np.linspace(-1e6,1e6,100))\n",
    "print(np.mean(y_pred-y))\n",
    "plt.plot(b[:-1],c)\n",
    "plt.show()"
   ]
  },
  {
   "cell_type": "code",
   "execution_count": null,
   "metadata": {
    "collapsed": false
   },
   "outputs": [],
   "source": [
    "\n",
    "sns.distplot(np.log(df['lastSaleAmount'].values+1))\n",
    " plt.show()\n"
   ]
  },
  {
   "cell_type": "code",
   "execution_count": null,
   "metadata": {
    "collapsed": false,
    "deletable": true,
    "editable": true
   },
   "outputs": [],
   "source": [
    "#: Work on using grid-searches\n",
    "params = {'forest__n_estimators':  (39,42)}\n",
    "# params = {'forest__n_estimators':  np.arange(3,31,3)}\n",
    "from sklearn.preprocessing import FunctionTransformer\n",
    "# transformer = FunctionTransformer(np.log1p)\n",
    "# transformer.transform(y)\n",
    "grid = GridSearchCV(pipeline, params)\n",
    "grid.fit(X = X, y = y)\n",
    "\n",
    "#: Definining a specified cross-validation technique\n",
    "cv= StratifiedKFold(n_splits=2)\n",
    "\n",
    "# Alternatively, can say can say cv=3 to say a 3-repeat cross-validator\n",
    "grid_search = GridSearchCV(pipeline, params)#, cv=cv)\n",
    "#gsearch = GridSearchCV(pipeline, params)\n",
    "grid_search.fit(X = X, y = y)\n",
    "best_pipeline = grid_search.best_estimator_\n",
    "best_pipeline.get_params()['forest']"
   ]
  },
  {
   "cell_type": "code",
   "execution_count": null,
   "metadata": {
    "collapsed": false,
    "deletable": true,
    "editable": true
   },
   "outputs": [],
   "source": [
    "best_pipeline = grid_search.best_estimator_\n",
    "best_pipeline.get_params()['forest']"
   ]
  },
  {
   "cell_type": "code",
   "execution_count": null,
   "metadata": {
    "collapsed": false,
    "deletable": true,
    "editable": true
   },
   "outputs": [],
   "source": [
    "X = X_test\n",
    "y=y_test\n",
    "y_pred = best_pipeline.predict(X)\n",
    "print(np.sqrt(metrics.mean_squared_error(y,y_pred)))\n",
    "print(metrics.mean_absolute_error(y,y_pred))\n",
    "print(metrics.r2_score(y,y_pred))\n",
    "print(abs_mean_relative_error(y,y_pred))\n",
    "plt.plot(y, y_pred,'.')\n",
    "y_max = np.max((y, y_pred))\n",
    "plt.plot((0,y_max), (0,y_max),color='black')\n",
    "plt.show()"
   ]
  },
  {
   "cell_type": "code",
   "execution_count": 124,
   "metadata": {
    "collapsed": false,
    "deletable": true,
    "editable": true
   },
   "outputs": [],
   "source": [
    "lat_long_df = pd.groupby(df_train,'zipcode')['latitude','longitude'].mean()#.latitude.mean()\n",
    "# pd.groupby(df,'zipcode').latitude.mean()"
   ]
  },
  {
   "cell_type": "code",
   "execution_count": 69,
   "metadata": {
    "collapsed": false
   },
   "outputs": [],
   "source": [
    "jj = lat_long_df.add_suffix('_mean')#.reset_index()"
   ]
  },
  {
   "cell_type": "code",
   "execution_count": 133,
   "metadata": {
    "collapsed": false
   },
   "outputs": [
    {
     "ename": "SyntaxError",
     "evalue": "invalid syntax (<ipython-input-133-d49ad2461a4b>, line 1)",
     "output_type": "error",
     "traceback": [
      "\u001b[1;36m  File \u001b[1;32m\"<ipython-input-133-d49ad2461a4b>\"\u001b[1;36m, line \u001b[1;32m1\u001b[0m\n\u001b[1;33m    df calc_distance(df1, df2):\u001b[0m\n\u001b[1;37m                   ^\u001b[0m\n\u001b[1;31mSyntaxError\u001b[0m\u001b[1;31m:\u001b[0m invalid syntax\n"
     ]
    }
   ],
   "source": [
    "def calc_distance(df1, df2):\n",
    "    \n",
    "    \n",
    "        min_dist = gcd_vec(df1['latitude'],df1['longitude'],df2['latitude'],df2['longitude'])\n",
    "    \n",
    "def give_nearest_zip(df_w_unseen_zipcode, lat_long_df):\n",
    "    "
   ]
  },
  {
   "cell_type": "code",
   "execution_count": 141,
   "metadata": {
    "collapsed": false
   },
   "outputs": [
    {
     "ename": "SyntaxError",
     "evalue": "only named arguments may follow *expression (<ipython-input-141-8f465f28ebb5>, line 1)",
     "output_type": "error",
     "traceback": [
      "\u001b[1;36m  File \u001b[1;32m\"<ipython-input-141-8f465f28ebb5>\"\u001b[1;36m, line \u001b[1;32m1\u001b[0m\n\u001b[1;33m    lat_long_df[['latitude','longitude']].applymap(lambda x:find_dist(*x, target_lat, target_long), axis=1)\u001b[0m\n\u001b[1;31mSyntaxError\u001b[0m\u001b[1;31m:\u001b[0m only named arguments may follow *expression\n"
     ]
    }
   ],
   "source": [
    "df_test[~df_test['zipcode'].isin(lat_long_df.index)][['latitude','longitude']]\n",
    "lat_long_df[['latitude','longitude']].applymap(lambda x:gcd_vec(*x, target_lat, target_long), axis=1)"
   ]
  },
  {
   "cell_type": "code",
   "execution_count": 290,
   "metadata": {
    "collapsed": false,
    "deletable": true,
    "editable": true
   },
   "outputs": [
    {
     "name": "stdout",
     "output_type": "stream",
     "text": [
      "Int64Index([80123], dtype='int64', name=u'zipcode')\n",
      "      latitude   longitude\n",
      "188  39.757914 -104.998132\n"
     ]
    }
   ],
   "source": [
    "dd = df_test[~df_test['zipcode'].isin(lat_long_df.index)][['latitude','longitude']]\n",
    "\n",
    "ndx =(dd[['latitude','longitude']]).reset_index().apply(lambda x: smallest_gcd_distance_ndx(\n",
    "    lat_long_df.latitude.values, lat_long_df.longitude.values, x[0],x[1]), axis=1)\n",
    "print(lat_long_df.iloc[ndx].index)\n",
    "print(df_test[~df_test['zipcode'].isin(lat_long_df.index)][['latitude','longitude']] )\n",
    "df_test.loc[~df_test['zipcode'].isin(lat_long_df.index),'zipcode'] = lat_long_df.iloc[ndx].index\n"
   ]
  },
  {
   "cell_type": "code",
   "execution_count": 291,
   "metadata": {
    "collapsed": false
   },
   "outputs": [
    {
     "data": {
      "text/html": [
       "<div>\n",
       "<table border=\"1\" class=\"dataframe\">\n",
       "  <thead>\n",
       "    <tr style=\"text-align: right;\">\n",
       "      <th></th>\n",
       "      <th>latitude</th>\n",
       "      <th>longitude</th>\n",
       "    </tr>\n",
       "  </thead>\n",
       "  <tbody>\n",
       "  </tbody>\n",
       "</table>\n",
       "</div>"
      ],
      "text/plain": [
       "Empty DataFrame\n",
       "Columns: [latitude, longitude]\n",
       "Index: []"
      ]
     },
     "execution_count": 291,
     "metadata": {},
     "output_type": "execute_result"
    }
   ],
   "source": [
    "df_test[~df_test['zipcode'].isin(lat_long_df.index)][['latitude','longitude']]"
   ]
  },
  {
   "cell_type": "code",
   "execution_count": 279,
   "metadata": {
    "collapsed": false
   },
   "outputs": [
    {
     "data": {
      "text/plain": [
       "1"
      ]
     },
     "execution_count": 279,
     "metadata": {},
     "output_type": "execute_result"
    }
   ],
   "source": [
    "dd = df_test[~df_test['zipcode'].isin(lat_long_df.index)][['latitude','longitude']]\n",
    "\n",
    "np.argmin(gcd_vec(np.array([1,2,3]),np.array([1,2,3]),2,2))"
   ]
  },
  {
   "cell_type": "code",
   "execution_count": 181,
   "metadata": {
    "collapsed": false
   },
   "outputs": [
    {
     "data": {
      "text/plain": [
       "array([ 39.84916   ,  39.62443184,  39.72404268,  39.73178965,\n",
       "        39.75989409,  39.73223225,  39.75695276,  39.70524469])"
      ]
     },
     "execution_count": 181,
     "metadata": {},
     "output_type": "execute_result"
    }
   ],
   "source": [
    "lat_long_df.latitude.values, lat_long_df.longitude.values, "
   ]
  },
  {
   "cell_type": "code",
   "execution_count": 283,
   "metadata": {
    "collapsed": false
   },
   "outputs": [],
   "source": [
    "        zip_code_lat_long_df = \\\n",
    "            pd.groupby(df,'zipcode')['latitude','longitude'].mean().add_suffix('_mean')"
   ]
  },
  {
   "cell_type": "code",
   "execution_count": 278,
   "metadata": {
    "collapsed": false
   },
   "outputs": [
    {
     "name": "stdout",
     "output_type": "stream",
     "text": [
      "Int64Index([80123], dtype='int64', name=u'zipcode')\n"
     ]
    }
   ],
   "source": [
    "ndx =(dd[['latitude','longitude']]).reset_index().apply(lambda x: smallest_gcd_distance_ndx(\n",
    "    lat_long_df.latitude.values, lat_long_df.longitude.values, x[0],x[1]), axis=1)\n",
    "print(lat_long_df.iloc[ndx].index)\n"
   ]
  },
  {
   "cell_type": "code",
   "execution_count": 247,
   "metadata": {
    "collapsed": false
   },
   "outputs": [
    {
     "data": {
      "text/plain": [
       "array([1, 0])"
      ]
     },
     "execution_count": 247,
     "metadata": {},
     "output_type": "execute_result"
    }
   ],
   "source": [
    "ndx.values"
   ]
  },
  {
   "cell_type": "code",
   "execution_count": 230,
   "metadata": {
    "collapsed": false
   },
   "outputs": [
    {
     "data": {
      "text/plain": [
       "0   -65.240218\n",
       "1   -65.320280\n",
       "dtype: float64"
      ]
     },
     "execution_count": 230,
     "metadata": {},
     "output_type": "execute_result"
    }
   ],
   "source": [
    "dd[['latitude','longitude']].reset_index().apply(lambda x: x[1]+x[2],axis=1)"
   ]
  },
  {
   "cell_type": "code",
   "execution_count": 240,
   "metadata": {
    "collapsed": false
   },
   "outputs": [
    {
     "data": {
      "text/html": [
       "<div>\n",
       "<table border=\"1\" class=\"dataframe\">\n",
       "  <thead>\n",
       "    <tr style=\"text-align: right;\">\n",
       "      <th></th>\n",
       "      <th>zipcode</th>\n",
       "      <th>latitude</th>\n",
       "      <th>longitude</th>\n",
       "    </tr>\n",
       "  </thead>\n",
       "  <tbody>\n",
       "    <tr>\n",
       "      <th>0</th>\n",
       "      <td>80022</td>\n",
       "      <td>39.849160</td>\n",
       "      <td>-104.893468</td>\n",
       "    </tr>\n",
       "    <tr>\n",
       "      <th>1</th>\n",
       "      <td>80123</td>\n",
       "      <td>39.624432</td>\n",
       "      <td>-105.081898</td>\n",
       "    </tr>\n",
       "    <tr>\n",
       "      <th>2</th>\n",
       "      <td>80203</td>\n",
       "      <td>39.724043</td>\n",
       "      <td>-104.981699</td>\n",
       "    </tr>\n",
       "    <tr>\n",
       "      <th>3</th>\n",
       "      <td>80204</td>\n",
       "      <td>39.731790</td>\n",
       "      <td>-105.030617</td>\n",
       "    </tr>\n",
       "    <tr>\n",
       "      <th>4</th>\n",
       "      <td>80205</td>\n",
       "      <td>39.759894</td>\n",
       "      <td>-104.962481</td>\n",
       "    </tr>\n",
       "    <tr>\n",
       "      <th>5</th>\n",
       "      <td>80206</td>\n",
       "      <td>39.732232</td>\n",
       "      <td>-104.951113</td>\n",
       "    </tr>\n",
       "    <tr>\n",
       "      <th>6</th>\n",
       "      <td>80207</td>\n",
       "      <td>39.756953</td>\n",
       "      <td>-104.922012</td>\n",
       "    </tr>\n",
       "    <tr>\n",
       "      <th>7</th>\n",
       "      <td>80209</td>\n",
       "      <td>39.705245</td>\n",
       "      <td>-104.967768</td>\n",
       "    </tr>\n",
       "  </tbody>\n",
       "</table>\n",
       "</div>"
      ],
      "text/plain": [
       "   zipcode   latitude   longitude\n",
       "0    80022  39.849160 -104.893468\n",
       "1    80123  39.624432 -105.081898\n",
       "2    80203  39.724043 -104.981699\n",
       "3    80204  39.731790 -105.030617\n",
       "4    80205  39.759894 -104.962481\n",
       "5    80206  39.732232 -104.951113\n",
       "6    80207  39.756953 -104.922012\n",
       "7    80209  39.705245 -104.967768"
      ]
     },
     "execution_count": 240,
     "metadata": {},
     "output_type": "execute_result"
    }
   ],
   "source": []
  },
  {
   "cell_type": "code",
   "execution_count": 211,
   "metadata": {
    "collapsed": false
   },
   "outputs": [
    {
     "name": "stdout",
     "output_type": "stream",
     "text": [
      "  index  lat  long\n",
      "0   188  150   200\n",
      "1     3  200   210\n"
     ]
    },
    {
     "data": {
      "text/plain": [
       "lat     350\n",
       "long    410\n",
       "dtype: int64"
      ]
     },
     "execution_count": 211,
     "metadata": {},
     "output_type": "execute_result"
    }
   ],
   "source": [
    "sales = [{'index': '188', 'lat': 150, 'long': 200},\n",
    "         {'index': '3',  'lat': 200, 'long': 210}]\n",
    "dfj = pd.DataFrame(sales)\n",
    "print(dfj)\n",
    "dfj[['lat','long']].apply(lambda x: x[0] + x[1])"
   ]
  },
  {
   "cell_type": "code",
   "execution_count": 222,
   "metadata": {
    "collapsed": false
   },
   "outputs": [
    {
     "data": {
      "text/html": [
       "<div>\n",
       "<table border=\"1\" class=\"dataframe\">\n",
       "  <thead>\n",
       "    <tr style=\"text-align: right;\">\n",
       "      <th></th>\n",
       "      <th>index</th>\n",
       "      <th>lat</th>\n",
       "      <th>long</th>\n",
       "    </tr>\n",
       "  </thead>\n",
       "  <tbody>\n",
       "    <tr>\n",
       "      <th>0</th>\n",
       "      <td>188</td>\n",
       "      <td>150</td>\n",
       "      <td>200</td>\n",
       "    </tr>\n",
       "    <tr>\n",
       "      <th>1</th>\n",
       "      <td>3</td>\n",
       "      <td>200</td>\n",
       "      <td>210</td>\n",
       "    </tr>\n",
       "  </tbody>\n",
       "</table>\n",
       "</div>"
      ],
      "text/plain": [
       "  index  lat  long\n",
       "0   188  150   200\n",
       "1     3  200   210"
      ]
     },
     "execution_count": 222,
     "metadata": {},
     "output_type": "execute_result"
    }
   ],
   "source": [
    "dfj"
   ]
  },
  {
   "cell_type": "code",
   "execution_count": 293,
   "metadata": {
    "collapsed": true
   },
   "outputs": [],
   "source": [
    "from find_prices_nonoverlap import *"
   ]
  },
  {
   "cell_type": "code",
   "execution_count": 2,
   "metadata": {
    "collapsed": false
   },
   "outputs": [],
   "source": [
    "tzip = TransformZipCodes()"
   ]
  },
  {
   "cell_type": "code",
   "execution_count": null,
   "metadata": {
    "collapsed": true
   },
   "outputs": [],
   "source": [
    "tzip.fit()"
   ]
  }
 ],
 "metadata": {
  "kernelspec": {
   "display_name": "Python 2",
   "language": "python",
   "name": "python2"
  },
  "language_info": {
   "codemirror_mode": {
    "name": "ipython",
    "version": 2
   },
   "file_extension": ".py",
   "mimetype": "text/x-python",
   "name": "python",
   "nbconvert_exporter": "python",
   "pygments_lexer": "ipython2",
   "version": "2.7.13"
  }
 },
 "nbformat": 4,
 "nbformat_minor": 2
}
