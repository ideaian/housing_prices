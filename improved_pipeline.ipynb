{
 "cells": [
  {
   "cell_type": "code",
   "execution_count": 1,
   "metadata": {
    "collapsed": false,
    "deletable": true,
    "editable": true
   },
   "outputs": [],
   "source": [
    "from find_prices_nonoverlap import *\n",
    "from sklearn import metrics\n",
    "from sklearn.model_selection import (GridSearchCV, StratifiedKFold, cross_val_score)\n",
    "import warnings\n",
    "warnings.filterwarnings(action='once')"
   ]
  },
  {
   "cell_type": "code",
   "execution_count": 2,
   "metadata": {
    "collapsed": false
   },
   "outputs": [
    {
     "name": "stdout",
     "output_type": "stream",
     "text": [
      "Preparing Data: cleaning data\n",
      "Preparing Data: splitting test/train/validation\n"
     ]
    }
   ],
   "source": [
    "df = pd.read_csv('single_family_home_values.csv')\n",
    "\n",
    "print('Preparing Data: cleaning data')\n",
    "not_useful_fields = ['id','city','state']#, 'address']\n",
    "date_fields = ['lastSaleDate', 'priorSaleDate']\n",
    "required_fields = ['address','latitude','longitude','zipcode','bedrooms',\n",
    "                   'bathrooms','rooms','squareFootage',\n",
    "                   'lotSize','yearBuilt', 'lastSaleAmount',\n",
    "                   'lastSaleDate','estimated_value']\n",
    "zero_to_nan_fields = None\n",
    "nan_to_zero_fields = ['latitude','longitude','priorSaleDate','priorSaleAmount']\n",
    "\n",
    "print('Preparing Data: splitting test/train/validation')\n",
    "df_train, df_test, df_validation = train_validate_test_split(df)\n",
    "\n",
    "X_test = df_test[df_test.columns.drop('estimated_value')]\n",
    "y_test = df_test['estimated_value']\n",
    "\n",
    "X_train = df_train[df_train.columns.drop('estimated_value')]\n",
    "y_train = df_train['estimated_value'] "
   ]
  },
  {
   "cell_type": "code",
   "execution_count": 3,
   "metadata": {
    "collapsed": false
   },
   "outputs": [],
   "source": [
    "#tzip = ImputeZipCodes()\n",
    "#tzip.fit_transform(X_train,y_train)"
   ]
  },
  {
   "cell_type": "code",
   "execution_count": 4,
   "metadata": {
    "collapsed": false,
    "deletable": true,
    "editable": true,
    "scrolled": false
   },
   "outputs": [
    {
     "name": "stdout",
     "output_type": "stream",
     "text": [
      "Setting up pipeline\n"
     ]
    }
   ],
   "source": [
    "from sklearn.ensemble import (\n",
    "    ExtraTreesRegressor, GradientBoostingRegressor, AdaBoostRegressor \n",
    ")\n",
    "from sklearn.pipeline import FeatureUnion\n",
    "\n",
    "print(\"Setting up pipeline\")\n",
    "features = ('latitude', 'longitude', 'zipcode',\n",
    "            'bedrooms', 'bathrooms','rooms', \n",
    "            'squareFootage', 'lotSize', \n",
    "            'yearBuilt',\n",
    "            'lastSaleAmount','lastSaleDateYear','lastSaleDateMonth','lastSaleDateDayOfWeek')\n",
    "\n",
    "\n",
    "#: Note imputer will strip away column heads, it has to be after featurize\n",
    "#reg_function = LGBMRegressor()\n",
    "#reg_function = XGBRegressor()\n",
    "reg_function = RandomForestRegressor(n_jobs=3)\n",
    "#reg_function = GradientBoostingRegressor()\n",
    "#reg_function = ExtraTreesRegressor(n_estimators=2)\n",
    "#reg_function = AdaBoostRegressor(); #Really bad\n",
    "\n",
    "\n",
    "# prepare_data_pipeline = Pipeline([\n",
    "#             ('prepare_data', PrepareData(required_fields=required_fields,\n",
    "#                                          date_fields=date_fields,\n",
    "#                                         zero_to_nan_fields=zero_to_nan_fields,\n",
    "#                                         nan_to_zero_fields=nan_to_zero_fields)), \n",
    "#           ('featurize', featurize(features)),\n",
    "#           ('imputer', Imputer(missing_values=np.nan, strategy=\"mean\", axis=0)),\n",
    "#             ])\n",
    "prepare_data_pipeline = Pipeline([\n",
    "            ('prepare_data', PrepareData(required_fields=required_fields,\n",
    "                                         date_fields=date_fields,\n",
    "                                        zero_to_nan_fields=zero_to_nan_fields,\n",
    "                                        nan_to_zero_fields=nan_to_zero_fields)), \n",
    "\n",
    "     ('union', FeatureUnion(\n",
    "        transformer_list=[\n",
    "\n",
    "            # Pipeline for pulling features from the post's subject line\n",
    "            ('subject',  StreetVectorizer()),\n",
    "            # Pipeline for standard bag-of-words model for body\n",
    "           ('featurize', featurize(features)),\n",
    "        ]\n",
    "     )),\n",
    "            \n",
    "   \n",
    "          ('imputer', Imputer(missing_values=np.nan, strategy=\"mean\", axis=0)),\n",
    "            ])\n",
    "fit_data_pipeline = Pipeline([\n",
    "          ('forest', reg_function)\n",
    "            ])"
   ]
  },
  {
   "cell_type": "code",
   "execution_count": 5,
   "metadata": {
    "collapsed": false
   },
   "outputs": [
    {
     "name": "stderr",
     "output_type": "stream",
     "text": [
      "find_prices_nonoverlap.py:95: SettingWithCopyWarning: \n",
      "A value is trying to be set on a copy of a slice from a DataFrame\n",
      "\n",
      "See the caveats in the documentation: http://pandas.pydata.org/pandas-docs/stable/indexing.html#indexing-view-versus-copy\n",
      "  df.drop(labels=key, axis=1, inplace=True)\n",
      "/Users/derringi/.edm/envs/may2018/lib/python2.7/site-packages/pandas/core/indexing.py:477: SettingWithCopyWarning: \n",
      "A value is trying to be set on a copy of a slice from a DataFrame.\n",
      "Try using .loc[row_indexer,col_indexer] = value instead\n",
      "\n",
      "See the caveats in the documentation: http://pandas.pydata.org/pandas-docs/stable/indexing.html#indexing-view-versus-copy\n",
      "  self.obj[item] = s\n",
      "find_prices_nonoverlap.py:227: SettingWithCopyWarning: \n",
      "A value is trying to be set on a copy of a slice from a DataFrame.\n",
      "Try using .loc[row_indexer,col_indexer] = value instead\n",
      "\n",
      "See the caveats in the documentation: http://pandas.pydata.org/pandas-docs/stable/indexing.html#indexing-view-versus-copy\n",
      "  df[field+'DayOfWeek'] = d.dt.dayofweek\n"
     ]
    },
    {
     "name": "stdout",
     "output_type": "stream",
     "text": [
      "Warning, field priorSaleDate not in dataframe\n",
      "Fitting model on training data\n"
     ]
    },
    {
     "name": "stderr",
     "output_type": "stream",
     "text": [
      "/Users/derringi/.edm/envs/may2018/lib/python2.7/site-packages/sklearn/preprocessing/data.py:586: DeprecationWarning: Passing 1d arrays as data is deprecated in 0.17 and will raise ValueError in 0.19. Reshape your data either using X.reshape(-1, 1) if your data has a single feature or X.reshape(1, -1) if it contains a single sample.\n",
      "  warnings.warn(DEPRECATION_MSG_1D, DeprecationWarning)\n",
      "/Users/derringi/.edm/envs/may2018/lib/python2.7/site-packages/sklearn/utils/validation.py:429: DataConversionWarning: Data with input dtype int64 was converted to float64 by StandardScaler.\n",
      "  warnings.warn(msg, _DataConversionWarning)\n"
     ]
    },
    {
     "name": "stdout",
     "output_type": "stream",
     "text": [
      "Evaluating model on training data\n",
      "Sqrt mse: 72839.6661294\n",
      "Mean absolute error: 28451.7897889\n",
      "R2 score: 0.980485065594\n",
      "Absolute mean relative error: 0.0383194809825\n"
     ]
    },
    {
     "data": {
      "image/png": "[encoded data removed]",
      "text/plain": [
       "<matplotlib.figure.Figure at 0x114f6a250>"
      ]
     },
     "metadata": {},
     "output_type": "display_data"
    },
    {
     "name": "stdout",
     "output_type": "stream",
     "text": [
      "Evaluating model on testing data\n",
      "Warning, field priorSaleDate not in dataframe\n",
      "Sqrt mse: 149589.831345\n",
      "Mean absolute error: 66444.899\n",
      "R2 score: 0.891682471811\n",
      "Absolute mean relative error: 0.0920464625942\n"
     ]
    },
    {
     "data": {
      "image/png": "[encoded data removed]",
      "text/plain": [
       "<matplotlib.figure.Figure at 0x1153de450>"
      ]
     },
     "metadata": {},
     "output_type": "display_data"
    }
   ],
   "source": [
    "x_train = prepare_data_pipeline.fit_transform(X = df_train, y = y_train)\n",
    "\n",
    "print(\"Fitting model on training data\")\n",
    "model = fit_data_pipeline.fit(X = x_train, y = y_train)\n",
    "\n",
    "print(\"Evaluating model on training data\")\n",
    "y_pred = model.predict(x_train)\n",
    "print_metrics(y_train, y_pred)\n",
    "plt.plot((y_train), (y_pred),'.')\n",
    "y_max = (np.max((y_train, y_pred)))\n",
    "plt.plot((0,y_max), (0,y_max),color='black')\n",
    "plt.show()\n",
    "\n",
    "print(\"Evaluating model on testing data\")\n",
    "X_test = prepare_data_pipeline.transform(df_test)\n",
    "y_test_pred = model.predict(X_test)\n",
    "print_metrics(y_test, y_test_pred)\n",
    "plt.plot((y_test), (y_test_pred),'.', alpha=0.2)\n",
    "y_max = (np.max((y_test, y_test_pred)))\n",
    "plt.plot((0,y_max), (0,y_max),color='black')\n",
    "\n",
    "plt.show()"
   ]
  },
  {
   "cell_type": "code",
   "execution_count": 6,
   "metadata": {
    "collapsed": false
   },
   "outputs": [
    {
     "data": {
      "text/plain": [
       "['address',\n",
       " 'latitude',\n",
       " 'longitude',\n",
       " 'zipcode',\n",
       " 'bedrooms',\n",
       " 'bathrooms',\n",
       " 'rooms',\n",
       " 'squareFootage',\n",
       " 'lotSize',\n",
       " 'yearBuilt',\n",
       " 'lastSaleAmountlastSaleDate',\n",
       " 'estimated_value']"
      ]
     },
     "execution_count": 6,
     "metadata": {},
     "output_type": "execute_result"
    }
   ],
   "source": [
    " ['address','latitude','longitude','zipcode','bedrooms',\n",
    "                   'bathrooms','rooms','squareFootage',\n",
    "                   'lotSize','yearBuilt', 'lastSaleAmount' \n",
    "                   'lastSaleDate','estimated_value']"
   ]
  },
  {
   "cell_type": "code",
   "execution_count": 7,
   "metadata": {
    "collapsed": false
   },
   "outputs": [],
   "source": [
    "from sklearn.feature_extraction.text import CountVectorizer\n",
    "vectorizer = CountVectorizer(analyzer='word', token_pattern='[A-Za-z]{3,}')\n",
    "corpus = df_train['address']\n",
    "X = vectorizer.fit_transform(corpus)"
   ]
  },
  {
   "cell_type": "code",
   "execution_count": 8,
   "metadata": {
    "collapsed": false
   },
   "outputs": [
    {
     "data": {
      "text/plain": [
       "{u'acoma': 0,\n",
       " u'adams': 1,\n",
       " u'alameda': 2,\n",
       " u'alamo': 3,\n",
       " u'albion': 4,\n",
       " u'allen': 5,\n",
       " u'ammons': 6,\n",
       " u'arapahoe': 7,\n",
       " u'ash': 8,\n",
       " u'ave': 9,\n",
       " u'avenue': 10,\n",
       " u'bayaud': 11,\n",
       " u'belcaro': 12,\n",
       " u'bellaire': 13,\n",
       " u'bellewood': 14,\n",
       " u'bellwood': 15,\n",
       " u'berry': 16,\n",
       " u'birch': 17,\n",
       " u'blvd': 18,\n",
       " u'bonnie': 19,\n",
       " u'brae': 20,\n",
       " u'bruce': 21,\n",
       " u'california': 22,\n",
       " u'canosa': 23,\n",
       " u'cedar': 24,\n",
       " u'center': 25,\n",
       " u'champa': 26,\n",
       " u'chenango': 27,\n",
       " u'cherokee': 28,\n",
       " u'cherry': 29,\n",
       " u'cir': 30,\n",
       " u'circle': 31,\n",
       " u'clarkson': 32,\n",
       " u'clayton': 33,\n",
       " u'clermont': 34,\n",
       " u'club': 35,\n",
       " u'colfax': 36,\n",
       " u'colorado': 37,\n",
       " u'columbine': 38,\n",
       " u'cook': 39,\n",
       " u'corona': 40,\n",
       " u'court': 41,\n",
       " u'cove': 42,\n",
       " u'creek': 43,\n",
       " u'crestline': 44,\n",
       " u'curtis': 45,\n",
       " u'dahlia': 46,\n",
       " u'dakota': 47,\n",
       " u'delaware': 48,\n",
       " u'detroit': 49,\n",
       " u'dexter': 50,\n",
       " u'division': 51,\n",
       " u'dorado': 52,\n",
       " u'downing': 53,\n",
       " u'eaton': 54,\n",
       " u'elati': 55,\n",
       " u'elizabeth': 56,\n",
       " u'ellipse': 57,\n",
       " u'elm': 58,\n",
       " u'emerson': 59,\n",
       " u'estes': 60,\n",
       " u'euclid': 61,\n",
       " u'eudora': 62,\n",
       " u'everett': 63,\n",
       " u'exposition': 64,\n",
       " u'fairfax': 65,\n",
       " u'federal': 66,\n",
       " u'fenton': 67,\n",
       " u'field': 68,\n",
       " u'fillmore': 69,\n",
       " u'flower': 70,\n",
       " u'forest': 71,\n",
       " u'fox': 72,\n",
       " u'franklin': 73,\n",
       " u'galapago': 74,\n",
       " u'gar': 75,\n",
       " u'garfield': 76,\n",
       " u'garland': 77,\n",
       " u'garrison': 78,\n",
       " u'gaylord': 79,\n",
       " u'gill': 80,\n",
       " u'gilpin': 81,\n",
       " u'glenarm': 82,\n",
       " u'glencoe': 83,\n",
       " u'grand': 84,\n",
       " u'grant': 85,\n",
       " u'grape': 86,\n",
       " u'gray': 87,\n",
       " u'grove': 88,\n",
       " u'haddon': 89,\n",
       " u'harlan': 90,\n",
       " u'harrison': 91,\n",
       " u'hawthorne': 92,\n",
       " u'hazel': 93,\n",
       " u'high': 94,\n",
       " u'holden': 95,\n",
       " u'holland': 96,\n",
       " u'holly': 97,\n",
       " u'hooker': 98,\n",
       " u'hoyt': 99,\n",
       " u'hudson': 100,\n",
       " u'humboldt': 101,\n",
       " u'hurst': 102,\n",
       " u'inca': 103,\n",
       " u'ingalls': 104,\n",
       " u'iris': 105,\n",
       " u'irving': 106,\n",
       " u'ivanhoe': 107,\n",
       " u'ivy': 108,\n",
       " u'jackson': 109,\n",
       " u'jasmine': 110,\n",
       " u'jellison': 111,\n",
       " u'johnson': 112,\n",
       " u'josephine': 113,\n",
       " u'julian': 114,\n",
       " u'kalamath': 115,\n",
       " u'kearney': 116,\n",
       " u'kentucky': 117,\n",
       " u'king': 118,\n",
       " u'knox': 119,\n",
       " u'krameria': 120,\n",
       " u'lafayette': 121,\n",
       " u'larimer': 122,\n",
       " u'lawrence': 123,\n",
       " u'layton': 124,\n",
       " u'leyden': 125,\n",
       " u'lincoln': 126,\n",
       " u'linley': 127,\n",
       " u'lipan': 128,\n",
       " u'locust': 129,\n",
       " u'logan': 130,\n",
       " u'lowell': 131,\n",
       " u'luther': 132,\n",
       " u'madison': 133,\n",
       " u'magnolia': 134,\n",
       " u'maple': 135,\n",
       " u'marion': 136,\n",
       " u'mariposa': 137,\n",
       " u'martin': 138,\n",
       " u'meade': 139,\n",
       " u'medea': 140,\n",
       " u'milwaukee': 141,\n",
       " u'monaco': 142,\n",
       " u'monmouth': 143,\n",
       " u'monroe': 144,\n",
       " u'montview': 145,\n",
       " u'newport': 146,\n",
       " u'newton': 147,\n",
       " u'niagara': 148,\n",
       " u'ogden': 149,\n",
       " u'ohio': 150,\n",
       " u'ohm': 151,\n",
       " u'olive': 152,\n",
       " u'oneida': 153,\n",
       " u'osceola': 154,\n",
       " u'otis': 155,\n",
       " u'park': 156,\n",
       " u'paul': 157,\n",
       " u'pearl': 158,\n",
       " u'pennsylvania': 159,\n",
       " u'perry': 160,\n",
       " u'pkwy': 161,\n",
       " u'polo': 162,\n",
       " u'pontiac': 163,\n",
       " u'poplar': 164,\n",
       " u'prentice': 165,\n",
       " u'progress': 166,\n",
       " u'quebec': 167,\n",
       " u'quince': 168,\n",
       " u'quitman': 169,\n",
       " u'race': 170,\n",
       " u'raleigh': 171,\n",
       " u'ranch': 172,\n",
       " u'randolph': 173,\n",
       " u'richard': 174,\n",
       " u'rosemary': 175,\n",
       " u'roslyn': 176,\n",
       " u'saint': 177,\n",
       " u'santa': 178,\n",
       " u'saratoga': 179,\n",
       " u'sherman': 180,\n",
       " u'short': 181,\n",
       " u'south': 182,\n",
       " u'steele': 183,\n",
       " u'stetson': 184,\n",
       " u'stout': 185,\n",
       " u'stuart': 186,\n",
       " u'sumac': 187,\n",
       " u'syracuse': 188,\n",
       " u'tennessee': 189,\n",
       " u'tennyson': 190,\n",
       " u'thrill': 191,\n",
       " u'trail': 192,\n",
       " u'tremont': 193,\n",
       " u'university': 194,\n",
       " u'utica': 195,\n",
       " u'vine': 196,\n",
       " u'virginia': 197,\n",
       " u'vrain': 198,\n",
       " u'wadsworth': 199,\n",
       " u'wagon': 200,\n",
       " u'walnut': 201,\n",
       " u'washington': 202,\n",
       " u'way': 203,\n",
       " u'welton': 204,\n",
       " u'westwood': 205,\n",
       " u'wheeling': 206,\n",
       " u'williams': 207,\n",
       " u'wilson': 208,\n",
       " u'winona': 209,\n",
       " u'wolff': 210,\n",
       " u'xavier': 211,\n",
       " u'yates': 212,\n",
       " u'york': 213,\n",
       " u'yukon': 214,\n",
       " u'zenobia': 215}"
      ]
     },
     "execution_count": 8,
     "metadata": {},
     "output_type": "execute_result"
    }
   ],
   "source": [
    "vectorizer.vocabulary_"
   ]
  },
  {
   "cell_type": "code",
   "execution_count": 9,
   "metadata": {
    "collapsed": false
   },
   "outputs": [],
   "source": [
    "y = vectorizer.transform(df_test['address'])"
   ]
  },
  {
   "cell_type": "code",
   "execution_count": 10,
   "metadata": {
    "collapsed": false
   },
   "outputs": [
    {
     "ename": "ValueError",
     "evalue": "operands could not be broadcast together with shapes (9000,) (3000,216) ",
     "output_type": "error",
     "traceback": [
      "\u001b[1;31m---------------------------------------------------------------------------\u001b[0m",
      "\u001b[1;31mValueError\u001b[0m                                Traceback (most recent call last)",
      "\u001b[1;32m<ipython-input-10-465a2c2137cc>\u001b[0m in \u001b[0;36m<module>\u001b[1;34m()\u001b[0m\n\u001b[1;32m----> 1\u001b[1;33m \u001b[1;33m[\u001b[0m\u001b[0mc\u001b[0m\u001b[1;33m,\u001b[0m\u001b[0mb\u001b[0m\u001b[1;33m]\u001b[0m \u001b[1;33m=\u001b[0m \u001b[0mnp\u001b[0m\u001b[1;33m.\u001b[0m\u001b[0mhistogram\u001b[0m\u001b[1;33m(\u001b[0m\u001b[0my_pred\u001b[0m\u001b[1;33m-\u001b[0m\u001b[0my\u001b[0m\u001b[1;33m,\u001b[0m \u001b[0mbins\u001b[0m\u001b[1;33m=\u001b[0m\u001b[0mnp\u001b[0m\u001b[1;33m.\u001b[0m\u001b[0mlinspace\u001b[0m\u001b[1;33m(\u001b[0m\u001b[1;33m-\u001b[0m\u001b[1;36m1e6\u001b[0m\u001b[1;33m,\u001b[0m\u001b[1;36m1e6\u001b[0m\u001b[1;33m,\u001b[0m\u001b[1;36m100\u001b[0m\u001b[1;33m)\u001b[0m\u001b[1;33m)\u001b[0m\u001b[1;33m\u001b[0m\u001b[0m\n\u001b[0m\u001b[0;32m      2\u001b[0m \u001b[1;32mprint\u001b[0m\u001b[1;33m(\u001b[0m\u001b[0mnp\u001b[0m\u001b[1;33m.\u001b[0m\u001b[0mmean\u001b[0m\u001b[1;33m(\u001b[0m\u001b[0my_pred\u001b[0m\u001b[1;33m-\u001b[0m\u001b[0my\u001b[0m\u001b[1;33m)\u001b[0m\u001b[1;33m)\u001b[0m\u001b[1;33m\u001b[0m\u001b[0m\n\u001b[0;32m      3\u001b[0m \u001b[0mplt\u001b[0m\u001b[1;33m.\u001b[0m\u001b[0mplot\u001b[0m\u001b[1;33m(\u001b[0m\u001b[0mb\u001b[0m\u001b[1;33m[\u001b[0m\u001b[1;33m:\u001b[0m\u001b[1;33m-\u001b[0m\u001b[1;36m1\u001b[0m\u001b[1;33m]\u001b[0m\u001b[1;33m,\u001b[0m\u001b[0mc\u001b[0m\u001b[1;33m)\u001b[0m\u001b[1;33m\u001b[0m\u001b[0m\n\u001b[0;32m      4\u001b[0m \u001b[0mplt\u001b[0m\u001b[1;33m.\u001b[0m\u001b[0mshow\u001b[0m\u001b[1;33m(\u001b[0m\u001b[1;33m)\u001b[0m\u001b[1;33m\u001b[0m\u001b[0m\n",
      "\u001b[1;32m/Users/derringi/.edm/envs/may2018/lib/python2.7/site-packages/scipy/sparse/compressed.pyc\u001b[0m in \u001b[0;36m__rsub__\u001b[1;34m(self, other)\u001b[0m\n\u001b[0;32m    379\u001b[0m         \u001b[1;32melif\u001b[0m \u001b[0misdense\u001b[0m\u001b[1;33m(\u001b[0m\u001b[0mother\u001b[0m\u001b[1;33m)\u001b[0m\u001b[1;33m:\u001b[0m\u001b[1;33m\u001b[0m\u001b[0m\n\u001b[0;32m    380\u001b[0m             \u001b[1;31m# Convert this matrix to a dense matrix and subtract them\u001b[0m\u001b[1;33m\u001b[0m\u001b[1;33m\u001b[0m\u001b[0m\n\u001b[1;32m--> 381\u001b[1;33m             \u001b[1;32mreturn\u001b[0m \u001b[0mother\u001b[0m \u001b[1;33m-\u001b[0m \u001b[0mself\u001b[0m\u001b[1;33m.\u001b[0m\u001b[0mtodense\u001b[0m\u001b[1;33m(\u001b[0m\u001b[1;33m)\u001b[0m\u001b[1;33m\u001b[0m\u001b[0m\n\u001b[0m\u001b[0;32m    382\u001b[0m         \u001b[1;32melse\u001b[0m\u001b[1;33m:\u001b[0m\u001b[1;33m\u001b[0m\u001b[0m\n\u001b[0;32m    383\u001b[0m             \u001b[1;32mreturn\u001b[0m \u001b[0mNotImplemented\u001b[0m\u001b[1;33m\u001b[0m\u001b[0m\n",
      "\u001b[1;31mValueError\u001b[0m: operands could not be broadcast together with shapes (9000,) (3000,216) "
     ]
    }
   ],
   "source": [
    "[c,b] = np.histogram(y_pred-y, bins=np.linspace(-1e6,1e6,100))\n",
    "print(np.mean(y_pred-y))\n",
    "plt.plot(b[:-1],c)\n",
    "plt.show()"
   ]
  },
  {
   "cell_type": "code",
   "execution_count": null,
   "metadata": {
    "collapsed": false
   },
   "outputs": [],
   "source": [
    "\n",
    "sns.distplot(np.log(df['lastSaleAmount'].values+1))\n",
    " plt.show()\n"
   ]
  },
  {
   "cell_type": "code",
   "execution_count": null,
   "metadata": {
    "collapsed": false,
    "deletable": true,
    "editable": true
   },
   "outputs": [],
   "source": [
    "#: Work on using grid-searches\n",
    "params = {'forest__n_estimators':  (39,42)}\n",
    "# params = {'forest__n_estimators':  np.arange(3,31,3)}\n",
    "from sklearn.preprocessing import FunctionTransformer\n",
    "# transformer = FunctionTransformer(np.log1p)\n",
    "# transformer.transform(y)\n",
    "grid = GridSearchCV(pipeline, params)\n",
    "grid.fit(X = X, y = y)\n",
    "\n",
    "#: Definining a specified cross-validation technique\n",
    "cv= StratifiedKFold(n_splits=2)\n",
    "\n",
    "# Alternatively, can say can say cv=3 to say a 3-repeat cross-validator\n",
    "grid_search = GridSearchCV(pipeline, params)#, cv=cv)\n",
    "#gsearch = GridSearchCV(pipeline, params)\n",
    "grid_search.fit(X = X, y = y)\n",
    "best_pipeline = grid_search.best_estimator_\n",
    "best_pipeline.get_params()['forest']"
   ]
  },
  {
   "cell_type": "code",
   "execution_count": null,
   "metadata": {
    "collapsed": false,
    "deletable": true,
    "editable": true
   },
   "outputs": [],
   "source": [
    "best_pipeline = grid_search.best_estimator_\n",
    "best_pipeline.get_params()['forest']"
   ]
  },
  {
   "cell_type": "code",
   "execution_count": null,
   "metadata": {
    "collapsed": false,
    "deletable": true,
    "editable": true
   },
   "outputs": [],
   "source": [
    "X = X_test\n",
    "y=y_test\n",
    "y_pred = best_pipeline.predict(X)\n",
    "print(np.sqrt(metrics.mean_squared_error(y,y_pred)))\n",
    "print(metrics.mean_absolute_error(y,y_pred))\n",
    "print(metrics.r2_score(y,y_pred))\n",
    "print(abs_mean_relative_error(y,y_pred))\n",
    "plt.plot(y, y_pred,'.')\n",
    "y_max = np.max((y, y_pred))\n",
    "plt.plot((0,y_max), (0,y_max),color='black')\n",
    "plt.show()"
   ]
  },
  {
   "cell_type": "code",
   "execution_count": null,
   "metadata": {
    "collapsed": false
   },
   "outputs": [],
   "source": []
  },
  {
   "cell_type": "code",
   "execution_count": null,
   "metadata": {
    "collapsed": true
   },
   "outputs": [],
   "source": []
  },
  {
   "cell_type": "code",
   "execution_count": null,
   "metadata": {
    "collapsed": true
   },
   "outputs": [],
   "source": []
  },
  {
   "cell_type": "code",
   "execution_count": null,
   "metadata": {
    "collapsed": false
   },
   "outputs": [],
   "source": [
    "required_fields = ['address','latitude','longitude','zipcode','bedrooms',\n",
    "                   'bathrooms','rooms','squareFootage',\n",
    "                   'lotSize','yearBuilt',\n",
    "                   'lastSaleDate','estimated_value']\n",
    "for key in iter(df.keys()):\n",
    "    if key not in required_fields:\n",
    "        print(key)"
   ]
  },
  {
   "cell_type": "code",
   "execution_count": null,
   "metadata": {
    "collapsed": false
   },
   "outputs": [],
   "source": [
    "df.drop(column=['id'])"
   ]
  },
  {
   "cell_type": "code",
   "execution_count": null,
   "metadata": {
    "collapsed": false
   },
   "outputs": [],
   "source": [
    "df.drop(labels='id',axis=1)"
   ]
  },
  {
   "cell_type": "code",
   "execution_count": null,
   "metadata": {
    "collapsed": false
   },
   "outputs": [],
   "source": [
    "df"
   ]
  },
  {
   "cell_type": "code",
   "execution_count": null,
   "metadata": {
    "collapsed": true
   },
   "outputs": [],
   "source": []
  }
 ],
 "metadata": {
  "kernelspec": {
   "display_name": "Python 2",
   "language": "python",
   "name": "python2"
  },
  "language_info": {
   "codemirror_mode": {
    "name": "ipython",
    "version": 2
   },
   "file_extension": ".py",
   "mimetype": "text/x-python",
   "name": "python",
   "nbconvert_exporter": "python",
   "pygments_lexer": "ipython2",
   "version": "2.7.13"
  }
 },
 "nbformat": 4,
 "nbformat_minor": 2
}
